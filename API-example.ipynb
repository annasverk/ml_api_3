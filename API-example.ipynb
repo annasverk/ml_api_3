{
 "cells": [
  {
   "cell_type": "markdown",
   "metadata": {},
   "source": [
    "## API example\n",
    "\n",
    "Что можно сделать с помощью __ml_api__?\n",
    "1. Вернуть список доступных для обучения классов моделей\n",
    "2. Обучить ML-модель с возможностью настройки гиперпараметров. При этом гиперпараметры для разных моделей могут быть разные. Количество классов моделей доступных для обучения = 4\n",
    "3. Вернуть предсказание конкретной модели (система умеет хранить несколько обученных моделей)\n",
    "4. Обучить заново и удалить уже обученные модели\n",
    "\n",
    "С помощью __metrics__ можно посмотреть метрики, логируемые `prometheus_flask_exporter`\n",
    "\n",
    "---"
   ]
  },
  {
   "cell_type": "markdown",
   "metadata": {},
   "source": [
    "Сперва необходимо запустить утилиту `docker-compose`"
   ]
  },
  {
   "cell_type": "code",
   "execution_count": 1,
   "metadata": {},
   "outputs": [],
   "source": [
    "import requests\n",
    "import pandas as pd\n",
    "from sklearn.datasets import load_iris, load_boston"
   ]
  },
  {
   "cell_type": "markdown",
   "metadata": {},
   "source": [
    "Демонстрировать возможности API будем на датасетах _boston_ (задача регрессии) и _iris_ (задача классификации)"
   ]
  },
  {
   "cell_type": "code",
   "execution_count": 3,
   "metadata": {},
   "outputs": [],
   "source": [
    "iris_data = load_iris()\n",
    "iris_df = pd.DataFrame(iris_data.data, columns=iris_data.feature_names)\n",
    "iris_df['species'] = iris_data.target\n",
    "iris_json = iris_df.to_json()\n",
    "\n",
    "boston_data = load_boston()\n",
    "boston_df = pd.DataFrame(boston_data.data, columns=boston_data.feature_names)\n",
    "boston_df['PRICE'] = boston_data.target\n",
    "boston_json = boston_df.to_json()"
   ]
  },
  {
   "cell_type": "markdown",
   "metadata": {},
   "source": [
    "Метод __get__ возвращает список доступных для обучения моделей, а точнее алгоритмов из `sklearn`. Это сделано для того, чтобы сразу определялся тип задачи – регрессия или классификация. Всего реализовано 4 класса моделей:\n",
    "- Линейные модели\n",
    "- Метод опорных векторов\n",
    "- Дерево решений\n",
    "- Случайный лес"
   ]
  },
  {
   "cell_type": "code",
   "execution_count": 5,
   "metadata": {},
   "outputs": [
    {
     "data": {
      "text/plain": [
       "{'ml_models': ['LogisticRegression',\n",
       "  'SVC',\n",
       "  'DecisionTreeClassifier',\n",
       "  'RandomForestClassifier',\n",
       "  'Ridge',\n",
       "  'SVR',\n",
       "  'DecisionTreeRegressor',\n",
       "  'RandomForestRegressor']}"
      ]
     },
     "execution_count": 5,
     "metadata": {},
     "output_type": "execute_result"
    }
   ],
   "source": [
    "resp = requests.get('http://0.0.0.0:8080/ml_api')\n",
    "resp.json()"
   ]
  },
  {
   "cell_type": "markdown",
   "metadata": {},
   "source": [
    "Чтобы обучить модель, необходимо вызвать метод __post__ и передать в параметр __json__ всю необходимую информацию, а именно:\n",
    "- name (str) – имя модели, под которым она будет сохраняться в `mlflow`, версия модели будет указана через /\n",
    "- model (str) – модель, которую необходимо обучить (нужно выбрать из списка)\n",
    "- data (json) – данные в формате json, на которых надо обучить модель (поддерживаются только количественные признаки, таргет – последний элемент файла)\n",
    "- params (dict) – гиперпараметры модели, по умолчанию используются дефолтные значения соответствующего алгоритма в `sklearn`\n",
    "- grid_search (bool) – надо ли делать подбор оптимальных значений гиперпараметров, по умолчанию нет\n",
    "- param_grid (dict) – сетка для перебора значений гиперпараметров, по умолчанию используется заданная сетка\n",
    "\n",
    "Внутри данного метода, помимо сохранения обучающих и тестовых данных (разбиение производится автоматически случайным образом в соотношении 7:3), обучения модели и сохранения модели, также рассчитываются метрики качества в зависимости от класса модели. В отличие от предыдущей версии, локально (в папку) сохраняются лишь данные, а модель, параметры и метрики логируются с помощью `mlflow`. \n",
    "\n",
    "Посмотреть результаты экспериментов можно по http://127.0.0.1:5050\n",
    "\n",
    "Еще одно отличие от предыдущей версии приложения заключается в версионности моделей, то есть указывая одно и то же имя модели, можно создать несколько ее версий, например, с разными гиперпараметрами или на разных выборках. "
   ]
  },
  {
   "cell_type": "code",
   "execution_count": 6,
   "metadata": {},
   "outputs": [
    {
     "data": {
      "text/plain": [
       "(200, 'RandomForestRegressor is fitted and saved')"
      ]
     },
     "execution_count": 6,
     "metadata": {},
     "output_type": "execute_result"
    }
   ],
   "source": [
    "payload = {'model': 'RandomForestRegressor', 'data': boston_json, 'name': 'boston_rf'}\n",
    "response = requests.post('http://0.0.0.0:8080/ml_api', json=payload)\n",
    "response.status_code, response.text"
   ]
  },
  {
   "cell_type": "markdown",
   "metadata": {},
   "source": [
    "Чтобы посмотреть информацию обо всех обученных моделях, надо вызвать метод __get__ по адресу `/ml_api/all_models`. Для каждой модели хранится ее id (имя и версия модели), алгоритм (estimator), гиперпараметры, было ли обучение модели заново и была ли она удалена. Это своего рода файл истории использования API. Данные сохраняются в файлы, в названии которых указан id модели, в папке `./data`. "
   ]
  },
  {
   "cell_type": "code",
   "execution_count": 8,
   "metadata": {
    "scrolled": true
   },
   "outputs": [
    {
     "data": {
      "text/plain": [
       "{'boston_rf_1': {'deleted': False,\n",
       "  'model': 'RandomForestRegressor',\n",
       "  'params': {'bootstrap': True,\n",
       "   'ccp_alpha': 0.0,\n",
       "   'criterion': 'mse',\n",
       "   'max_depth': None,\n",
       "   'max_features': 'auto',\n",
       "   'max_leaf_nodes': None,\n",
       "   'max_samples': None,\n",
       "   'min_impurity_decrease': 0.0,\n",
       "   'min_impurity_split': None,\n",
       "   'min_samples_leaf': 1,\n",
       "   'min_samples_split': 2,\n",
       "   'min_weight_fraction_leaf': 0.0,\n",
       "   'n_estimators': 100,\n",
       "   'n_jobs': None,\n",
       "   'oob_score': False,\n",
       "   'random_state': None,\n",
       "   'verbose': 0,\n",
       "   'warm_start': False},\n",
       "  'retrained': False}}"
      ]
     },
     "execution_count": 8,
     "metadata": {},
     "output_type": "execute_result"
    }
   ],
   "source": [
    "response = requests.get('http://0.0.0.0:8080/ml_api/all_models')\n",
    "response.json()"
   ]
  },
  {
   "cell_type": "markdown",
   "metadata": {},
   "source": [
    "Параметры модели, также как и сетку для их перебора, можно либо задать вручную, либо не задавать вовсе. В последнем случае используются дефолтные параметры. "
   ]
  },
  {
   "cell_type": "code",
   "execution_count": 9,
   "metadata": {},
   "outputs": [
    {
     "data": {
      "text/plain": [
       "(200, 'RandomForestRegressor is fitted and saved')"
      ]
     },
     "execution_count": 9,
     "metadata": {},
     "output_type": "execute_result"
    }
   ],
   "source": [
    "payload = {'model': 'RandomForestRegressor',\n",
    "           'params': {'n_estimators': 200, 'max_depth': 10, 'min_samples_leaf': 3},\n",
    "           'data': boston_json,\n",
    "           'name': 'boston_rf'}\n",
    "response = requests.post('http://0.0.0.0:8080/ml_api', json=payload)\n",
    "response.status_code, response.text"
   ]
  },
  {
   "cell_type": "markdown",
   "metadata": {},
   "source": [
    "Можно убедиться, что создалась новая версия модели boston_rf"
   ]
  },
  {
   "cell_type": "code",
   "execution_count": 10,
   "metadata": {
    "scrolled": true
   },
   "outputs": [
    {
     "data": {
      "text/plain": [
       "{'boston_rf_1': {'deleted': False,\n",
       "  'model': 'RandomForestRegressor',\n",
       "  'params': {'bootstrap': True,\n",
       "   'ccp_alpha': 0.0,\n",
       "   'criterion': 'mse',\n",
       "   'max_depth': None,\n",
       "   'max_features': 'auto',\n",
       "   'max_leaf_nodes': None,\n",
       "   'max_samples': None,\n",
       "   'min_impurity_decrease': 0.0,\n",
       "   'min_impurity_split': None,\n",
       "   'min_samples_leaf': 1,\n",
       "   'min_samples_split': 2,\n",
       "   'min_weight_fraction_leaf': 0.0,\n",
       "   'n_estimators': 100,\n",
       "   'n_jobs': None,\n",
       "   'oob_score': False,\n",
       "   'random_state': None,\n",
       "   'verbose': 0,\n",
       "   'warm_start': False},\n",
       "  'retrained': False},\n",
       " 'boston_rf_2': {'deleted': False,\n",
       "  'model': 'RandomForestRegressor',\n",
       "  'params': {'bootstrap': True,\n",
       "   'ccp_alpha': 0.0,\n",
       "   'criterion': 'mse',\n",
       "   'max_depth': 10,\n",
       "   'max_features': 'auto',\n",
       "   'max_leaf_nodes': None,\n",
       "   'max_samples': None,\n",
       "   'min_impurity_decrease': 0.0,\n",
       "   'min_impurity_split': None,\n",
       "   'min_samples_leaf': 3,\n",
       "   'min_samples_split': 2,\n",
       "   'min_weight_fraction_leaf': 0.0,\n",
       "   'n_estimators': 200,\n",
       "   'n_jobs': None,\n",
       "   'oob_score': False,\n",
       "   'random_state': None,\n",
       "   'verbose': 0,\n",
       "   'warm_start': False},\n",
       "  'retrained': False}}"
      ]
     },
     "execution_count": 10,
     "metadata": {},
     "output_type": "execute_result"
    }
   ],
   "source": [
    "response = requests.get('http://0.0.0.0:8080/ml_api/all_models')\n",
    "response.json()"
   ]
  },
  {
   "cell_type": "markdown",
   "metadata": {},
   "source": [
    "API поддерживает работу только с количественными признаками. Если попытаться подать категориальные данные, выпадет ошибка 400. "
   ]
  },
  {
   "cell_type": "code",
   "execution_count": 11,
   "metadata": {},
   "outputs": [],
   "source": [
    "boston_df_cat = pd.DataFrame(boston_data.data, columns=boston_data.feature_names)\n",
    "boston_df_cat['category'] = 'a'\n",
    "boston_df_cat['PRICE'] = boston_data.target\n",
    "boston_json_cat = boston_df_cat.to_json()"
   ]
  },
  {
   "cell_type": "code",
   "execution_count": 12,
   "metadata": {},
   "outputs": [
    {
     "data": {
      "text/plain": [
       "(400, 'Could not support categorical features')"
      ]
     },
     "execution_count": 12,
     "metadata": {},
     "output_type": "execute_result"
    }
   ],
   "source": [
    "payload = {'model': 'RandomForestRegressor', 'data': boston_json_cat, 'name': 'boston_rf'}\n",
    "response = requests.post('http://0.0.0.0:8080/ml_api', json=payload)\n",
    "response.status_code, response.text"
   ]
  },
  {
   "cell_type": "markdown",
   "metadata": {},
   "source": [
    "Также ошибка выпадет, если пытаться строить модель не из списка доступных; использовать модель классификации для решения задачи регрессии и наоборот; передавать неправильный гиперпараметр (не поддерживаемый данным алгоритмом)"
   ]
  },
  {
   "cell_type": "code",
   "execution_count": 13,
   "metadata": {},
   "outputs": [
    {
     "data": {
      "text/plain": [
       "(400, 'RandomForestClassifier can only be used for classification tasks')"
      ]
     },
     "execution_count": 13,
     "metadata": {},
     "output_type": "execute_result"
    }
   ],
   "source": [
    "payload = {'model': 'RandomForestClassifier', 'data': boston_json, 'name': 'boston_rf'}\n",
    "response = requests.post('http://0.0.0.0:8080/ml_api', json=payload)\n",
    "response.status_code, response.text"
   ]
  },
  {
   "cell_type": "code",
   "execution_count": 14,
   "metadata": {},
   "outputs": [
    {
     "data": {
      "text/plain": [
       "(404,\n",
       " \"Can only train one of {'ml_models': ['LogisticRegression', 'SVC', 'DecisionTreeClassifier', 'RandomForestClassifier', 'Ridge', 'SVR', 'DecisionTreeRegressor', 'RandomForestRegressor']} models\")"
      ]
     },
     "execution_count": 14,
     "metadata": {},
     "output_type": "execute_result"
    }
   ],
   "source": [
    "payload = {'model': 'GradientBoostingRegressor', 'data': boston_json, 'name': 'boston_rf'}\n",
    "response = requests.post('http://0.0.0.0:8080/ml_api', json=payload)\n",
    "response.status_code, response.text"
   ]
  },
  {
   "cell_type": "code",
   "execution_count": 15,
   "metadata": {},
   "outputs": [
    {
     "data": {
      "text/plain": [
       "(400,\n",
       " \"RandomForestRegressor got an unexpected keyword argument 'learning_rate'\")"
      ]
     },
     "execution_count": 15,
     "metadata": {},
     "output_type": "execute_result"
    }
   ],
   "source": [
    "payload = {'model': 'RandomForestRegressor', 'params': {'learning_rate': 0.1}, 'data': boston_json, \n",
    "           'name': 'boston_rf'}\n",
    "response = requests.post('http://0.0.0.0:8080/ml_api', json=payload)\n",
    "response.status_code, response.text"
   ]
  },
  {
   "cell_type": "markdown",
   "metadata": {},
   "source": [
    "Вернуть предсказания конкретной модели на трейне и тесте можно с помощью метода __get__ с указанием в пути имени и версии модели"
   ]
  },
  {
   "cell_type": "code",
   "execution_count": 16,
   "metadata": {},
   "outputs": [
    {
     "data": {
      "text/plain": [
       "{'test_predictions': '[23.24, 30.94, 16.66, 23.95, 17.27, 22.38, 19.66, 14.54, 21.44, 21.06, 20.33, 19.29, 8.01, 21.97, 19.17, 24.86, 19.23, 8.41, 45.62, 15.74, 24.31, 23.85, 14.77, 23.76, 15.02, 15.22, 21.45, 14.04, 19.32, 21.1, 20.2, 23.34, 28.95, 20.56, 14.6, 16.32, 33.99, 19.06, 21.15, 23.95, 18.62, 30.0, 45.6, 19.48, 22.93, 13.65, 15.92, 24.31, 19.23, 27.93, 21.21, 33.66, 18.13, 26.11, 44.44, 21.79, 15.69, 31.97, 22.02, 20.88, 24.97, 33.81, 29.67, 18.82, 27.37, 16.98, 13.99, 22.99, 28.34, 15.93, 20.5, 28.87, 10.65, 21.63, 22.46, 7.01, 19.94, 46.05, 10.87, 12.41, 21.91, 12.14, 19.94, 9.38, 20.85, 27.37, 16.42, 23.33, 23.69, 17.83, 22.06, 7.45, 20.35, 19.29, 24.59, 19.9, 39.34, 12.02, 12.91, 12.32, 20.15, 24.1, 13.24, 20.33, 21.11, 12.15, 18.93, 24.71, 20.35, 23.22, 9.2, 16.06, 22.67, 25.3, 32.16, 14.82, 42.64, 16.3, 19.62, 24.12, 19.56, 23.92, 7.68, 20.78, 24.31, 21.93, 23.81, 34.9, 17.7, 44.8, 15.53, 23.59, 19.93, 18.59, 13.77, 20.99, 20.95, 31.79, 28.22, 17.32, 19.19, 24.6, 19.85, 18.25, 6.97, 21.74, 17.23, 13.31, 14.98, 41.56, 15.61, 16.09]',\n",
       " 'train_predictions': '[26.89, 21.0, 19.51, 22.26, 17.06, 25.05, 33.71, 6.54, 26.63, 19.06, 21.07, 23.2, 21.95, 21.96, 47.33, 15.32, 17.16, 24.17, 20.18, 19.82, 21.41, 37.66, 22.13, 20.04, 19.72, 28.69, 35.95, 24.93, 12.74, 12.76, 11.8, 16.26, 32.47, 26.86, 13.97, 13.67, 46.99, 21.58, 20.62, 23.19, 18.36, 12.79, 6.72, 30.5, 26.34, 19.13, 15.83, 13.87, 22.93, 17.15, 27.15, 35.37, 23.06, 24.03, 23.7, 49.79, 34.23, 31.57, 23.76, 22.62, 14.82, 41.03, 19.67, 31.93, 25.03, 21.46, 21.24, 8.9, 46.31, 43.65, 31.53, 9.43, 16.96, 20.53, 33.28, 17.1, 43.53, 21.38, 23.1, 12.22, 19.91, 23.69, 29.34, 28.71, 22.11, 28.87, 24.61, 32.74, 24.27, 21.4, 24.11, 9.87, 24.31, 22.8, 16.69, 8.91, 19.57, 24.86, 23.34, 19.97, 22.78, 13.47, 30.74, 26.64, 33.51, 13.77, 15.5, 12.72, 14.05, 10.83, 24.48, 16.49, 11.12, 21.96, 14.82, 24.22, 32.34, 40.74, 29.57, 19.93, 30.87, 43.05, 23.72, 21.05, 23.25, 18.8, 19.95, 7.61, 20.95, 20.39, 27.55, 28.12, 20.73, 22.59, 15.12, 12.5, 36.02, 17.65, 15.25, 22.42, 21.87, 20.46, 21.88, 44.04, 8.76, 19.38, 35.11, 17.12, 19.8, 22.78, 21.03, 14.26, 46.24, 23.88, 21.63, 17.17, 31.09, 36.34, 42.77, 18.39, 21.44, 20.14, 44.3, 12.38, 18.97, 16.09, 22.23, 7.97, 20.03, 13.0, 13.21, 18.23, 21.46, 21.69, 21.85, 24.1, 47.47, 26.72, 22.07, 45.85, 9.05, 24.15, 21.42, 19.81, 19.11, 18.54, 13.66, 11.34, 27.04, 20.07, 28.9, 20.88, 23.94, 12.94, 11.32, 29.58, 27.82, 10.27, 20.72, 23.81, 45.4, 22.34, 8.6, 35.31, 41.79, 20.76, 25.74, 40.24, 14.55, 26.28, 12.15, 20.05, 43.26, 27.58, 24.4, 17.56, 17.5, 14.79, 48.04, 21.8, 33.37, 15.73, 15.56, 14.54, 23.46, 33.14, 22.49, 49.67, 10.22, 13.93, 22.52, 17.76, 17.52, 27.78, 16.52, 23.22, 19.0, 31.95, 27.34, 18.82, 14.26, 34.36, 11.06, 20.21, 28.52, 22.02, 33.87, 12.53, 23.35, 18.69, 25.53, 21.09, 21.53, 27.8, 20.28, 25.68, 23.19, 21.32, 33.31, 22.84, 20.87, 23.59, 47.94, 24.19, 27.17, 8.08, 35.12, 20.87, 31.04, 19.47, 22.24, 11.44, 21.53, 14.56, 15.5, 19.47, 9.57, 27.65, 22.67, 13.82, 14.14, 30.96, 12.6, 21.48, 22.41, 19.18, 20.95, 24.98, 18.93, 35.62, 20.51, 20.33, 17.96, 26.48, 7.82, 37.97, 49.55, 19.7, 21.49, 15.48, 33.95, 18.83, 21.27, 24.23, 19.27, 17.44, 20.28, 18.25, 21.99, 11.41, 34.83, 20.1, 20.85, 30.46, 22.38, 23.15, 16.12, 31.01, 23.59, 30.56, 19.77, 22.16, 18.66, 26.57, 34.0, 14.69, 30.58, 7.87, 23.34, 13.84, 25.26, 47.67, 24.76, 14.44, 19.7, 19.61, 21.99, 32.24, 43.12, 22.13, 15.39, 20.57, 20.86, 17.61, 20.84, 16.55, 14.36, 28.95, 21.84, 19.24, 21.42, 25.62, 13.21, 18.96]'}"
      ]
     },
     "execution_count": 16,
     "metadata": {},
     "output_type": "execute_result"
    }
   ],
   "source": [
    "response = requests.get('http://0.0.0.0:8080/ml_api/boston_rf/1')\n",
    "response.json()"
   ]
  },
  {
   "cell_type": "markdown",
   "metadata": {},
   "source": [
    "Под обучением заново понимается обучение модели на новых данных. Сделать это можно с помощью метода __put__. Необходимо в адресе запроса указать имя и версию модели, а в параметр __json__ передать новые данные (также в формате json). В результате создается новая версия моделии, а в словаре моделей ключ retrained примет значение версии модели, которая была переобучена."
   ]
  },
  {
   "cell_type": "code",
   "execution_count": 17,
   "metadata": {},
   "outputs": [
    {
     "data": {
      "text/plain": [
       "(200, 'Model boston_rf of version 1 is re-fitted and saved')"
      ]
     },
     "execution_count": 17,
     "metadata": {},
     "output_type": "execute_result"
    }
   ],
   "source": [
    "response = requests.put('http://0.0.0.0:8080/ml_api/boston_rf/1', json=boston_df.sample(100).to_json())\n",
    "response.status_code, response.text"
   ]
  },
  {
   "cell_type": "code",
   "execution_count": 20,
   "metadata": {},
   "outputs": [
    {
     "data": {
      "text/plain": [
       "('boston_rf_3',\n",
       " {'deleted': False,\n",
       "  'model': 'RandomForestRegressor',\n",
       "  'params': {'bootstrap': True,\n",
       "   'ccp_alpha': 0.0,\n",
       "   'criterion': 'mse',\n",
       "   'max_depth': None,\n",
       "   'max_features': 'auto',\n",
       "   'max_leaf_nodes': None,\n",
       "   'max_samples': None,\n",
       "   'min_impurity_decrease': 0.0,\n",
       "   'min_impurity_split': None,\n",
       "   'min_samples_leaf': 1,\n",
       "   'min_samples_split': 2,\n",
       "   'min_weight_fraction_leaf': 0.0,\n",
       "   'n_estimators': 100,\n",
       "   'n_jobs': None,\n",
       "   'oob_score': False,\n",
       "   'random_state': None,\n",
       "   'verbose': 0,\n",
       "   'warm_start': False},\n",
       "  'retrained': '1'})"
      ]
     },
     "execution_count": 20,
     "metadata": {},
     "output_type": "execute_result"
    }
   ],
   "source": [
    "response = requests.get('http://0.0.0.0:8080/ml_api/all_models')\n",
    "list(response.json().items())[-1]"
   ]
  },
  {
   "cell_type": "markdown",
   "metadata": {},
   "source": [
    "Чтобы удалить уже обученную модель, надо вызвать метод __delete__ и указать в адресе имя и версию модели. При корректном выполнении выпадает ошибка 204, а deleted в словаре меняет свое значение на True."
   ]
  },
  {
   "cell_type": "code",
   "execution_count": 21,
   "metadata": {},
   "outputs": [
    {
     "data": {
      "text/plain": [
       "204"
      ]
     },
     "execution_count": 21,
     "metadata": {},
     "output_type": "execute_result"
    }
   ],
   "source": [
    "response = requests.delete('http://0.0.0.0:8080/ml_api/boston_rf/2')\n",
    "response.status_code"
   ]
  },
  {
   "cell_type": "code",
   "execution_count": 22,
   "metadata": {},
   "outputs": [
    {
     "data": {
      "text/plain": [
       "{'deleted': True,\n",
       " 'model': 'RandomForestRegressor',\n",
       " 'params': {'bootstrap': True,\n",
       "  'ccp_alpha': 0.0,\n",
       "  'criterion': 'mse',\n",
       "  'max_depth': 10,\n",
       "  'max_features': 'auto',\n",
       "  'max_leaf_nodes': None,\n",
       "  'max_samples': None,\n",
       "  'min_impurity_decrease': 0.0,\n",
       "  'min_impurity_split': None,\n",
       "  'min_samples_leaf': 3,\n",
       "  'min_samples_split': 2,\n",
       "  'min_weight_fraction_leaf': 0.0,\n",
       "  'n_estimators': 200,\n",
       "  'n_jobs': None,\n",
       "  'oob_score': False,\n",
       "  'random_state': None,\n",
       "  'verbose': 0,\n",
       "  'warm_start': False},\n",
       " 'retrained': False}"
      ]
     },
     "execution_count": 22,
     "metadata": {},
     "output_type": "execute_result"
    }
   ],
   "source": [
    "response = requests.get('http://0.0.0.0:8080/ml_api/all_models')\n",
    "response.json()['boston_rf_2']"
   ]
  },
  {
   "cell_type": "markdown",
   "metadata": {},
   "source": [
    "При попытке вызвать какой-либо метод для удаленной модели выпадает ошибка 404. Например:"
   ]
  },
  {
   "cell_type": "code",
   "execution_count": 23,
   "metadata": {
    "scrolled": true
   },
   "outputs": [
    {
     "data": {
      "text/plain": [
       "(404, 'Model boston_rf of version 2 was deleted')"
      ]
     },
     "execution_count": 23,
     "metadata": {},
     "output_type": "execute_result"
    }
   ],
   "source": [
    "response = requests.get('http://0.0.0.0:8080/ml_api/boston_rf/2')\n",
    "response.status_code, response.text"
   ]
  },
  {
   "cell_type": "markdown",
   "metadata": {},
   "source": [
    "## Monitoring\n",
    "\n",
    "Мониторинг приложения осуществляется посредством `PrometheusMetrics`, который логирует набор дефолтных метрик, а также ряд кастомных, в частности:\n",
    "1. __by_status_counter__ – счетчик запросов по статусу выполнения (сколько было сделано запросов с тем или иным статусом выполнения)\n",
    "2. __cnt_get_all_models__ – счетчик __get__ запроса к ручке __/ml_api/all_models__ (сколько раз смотрели словарь всех обученных моделей)\n",
    "3. __cnt_get_models__ – счетчик __get__ запроса к ручке __/ml_api__ (сколько раз смотрели доступные классы моделей)\n",
    "4. __cnt_get_preds__ – счетчик __get__ запроса к ручке __/ml_api/<model_name>/<model_version>__ по имени модели и статусу (сколько раз делали предсказания для той или иной модели любой версии с тем или иным статусом выполнения запроса – удалось получить предсказания или была какая-то ошибка)\n",
    "5. __cnt_deletes__ – счетчик __delete__ запроса к ручке __/ml_api/<model_name>/<model_version>__ по имени модели и статусу (сколько раз удаляли версии той или иной модели с тем или иным статусом выполнения запроса – удалось удалить модель или была какая-то ошибка)\n",
    "6. __cnt_trains__ – summary (кол-во запросов и время выполнения) __post__ запроса к ручке __/ml_api/<model_name>/<model_version>__ по имени модели и статусу (сколько обучено версий той или иной модели с тем или иным статусом выполнения запроса – удалось обучить модель или была какая-то ошибка)\n",
    "7. __cnt_estimator_uses__ – summary (кол-во запросов и время выполнения) __post__ запроса к ручке __/ml_api/<model_name>/<model_version>__ по алгоритму и статусу (сколько раз для обучения модели использован той или иной алгоритм (estimator) с тем или иным статусом выполнения запроса – удалось обучить модель или была какая-то ошибка)\n",
    "8. __cnt_retrains__ – summary (кол-во запросов и время выполнения) __put__ запроса к ручке __/ml_api/<model_name>/<model_version>__ по имени модели и статусу (сколько переобучений было для той или иной модели с тем или иным статусом выполнения запроса – удалось обучить модель на новых данных или была какая-то ошибка)\n",
    "\n",
    "Метрики собираются каждые 5 секунд, отследить их можно по:\n",
    "- http://127.0.0.1:8080/metrics\n",
    "- http://127.0.0.1:9090 – Prometheus\n",
    "- http://127.0.0.1:3000 – Grafana\n",
    "\n",
    "На последнем ресурсе можно построить красивый дэшборд для визуализации метрик ))"
   ]
  },
  {
   "cell_type": "code",
   "execution_count": 28,
   "metadata": {},
   "outputs": [
    {
     "data": {
      "text/plain": [
       "['# HELP python_gc_objects_collected_total Objects collected during gc',\n",
       " '# TYPE python_gc_objects_collected_total counter',\n",
       " 'python_gc_objects_collected_total{generation=\"0\"} 83997.0',\n",
       " 'python_gc_objects_collected_total{generation=\"1\"} 16537.0',\n",
       " 'python_gc_objects_collected_total{generation=\"2\"} 70.0',\n",
       " '# HELP python_gc_objects_uncollectable_total Uncollectable object found during GC',\n",
       " '# TYPE python_gc_objects_uncollectable_total counter',\n",
       " 'python_gc_objects_uncollectable_total{generation=\"0\"} 0.0',\n",
       " 'python_gc_objects_uncollectable_total{generation=\"1\"} 0.0',\n",
       " 'python_gc_objects_uncollectable_total{generation=\"2\"} 0.0',\n",
       " '# HELP python_gc_collections_total Number of times this generation was collected',\n",
       " '# TYPE python_gc_collections_total counter',\n",
       " 'python_gc_collections_total{generation=\"0\"} 495.0',\n",
       " 'python_gc_collections_total{generation=\"1\"} 45.0',\n",
       " 'python_gc_collections_total{generation=\"2\"} 3.0',\n",
       " '# HELP python_info Python platform information',\n",
       " '# TYPE python_info gauge',\n",
       " 'python_info{implementation=\"CPython\",major=\"3\",minor=\"8\",patchlevel=\"12\",version=\"3.8.12\"} 1.0',\n",
       " '# HELP process_virtual_memory_bytes Virtual memory size in bytes.',\n",
       " '# TYPE process_virtual_memory_bytes gauge',\n",
       " 'process_virtual_memory_bytes 7.74176768e+08',\n",
       " '# HELP process_resident_memory_bytes Resident memory size in bytes.',\n",
       " '# TYPE process_resident_memory_bytes gauge',\n",
       " 'process_resident_memory_bytes 2.00482816e+08',\n",
       " '# HELP process_start_time_seconds Start time of the process since unix epoch in seconds.',\n",
       " '# TYPE process_start_time_seconds gauge',\n",
       " 'process_start_time_seconds 1.6400251065e+09',\n",
       " '# HELP process_cpu_seconds_total Total user and system CPU time spent in seconds.',\n",
       " '# TYPE process_cpu_seconds_total counter',\n",
       " 'process_cpu_seconds_total 6.91',\n",
       " '# HELP process_open_fds Number of open file descriptors.',\n",
       " '# TYPE process_open_fds gauge',\n",
       " 'process_open_fds 6.0',\n",
       " '# HELP process_max_fds Maximum number of open file descriptors.',\n",
       " '# TYPE process_max_fds gauge',\n",
       " 'process_max_fds 1.048576e+06',\n",
       " '# HELP flask_exporter_info Information about the Prometheus Flask exporter',\n",
       " '# TYPE flask_exporter_info gauge',\n",
       " 'flask_exporter_info{version=\"0.18.6\"} 1.0',\n",
       " '# HELP flask_http_request_duration_seconds Flask HTTP request duration in seconds',\n",
       " '# TYPE flask_http_request_duration_seconds histogram',\n",
       " 'flask_http_request_duration_seconds_bucket{le=\"0.005\",method=\"GET\",path=\"/ml_api\",status=\"200\"} 1.0',\n",
       " 'flask_http_request_duration_seconds_bucket{le=\"0.01\",method=\"GET\",path=\"/ml_api\",status=\"200\"} 1.0',\n",
       " 'flask_http_request_duration_seconds_bucket{le=\"0.025\",method=\"GET\",path=\"/ml_api\",status=\"200\"} 1.0',\n",
       " 'flask_http_request_duration_seconds_bucket{le=\"0.05\",method=\"GET\",path=\"/ml_api\",status=\"200\"} 1.0',\n",
       " 'flask_http_request_duration_seconds_bucket{le=\"0.075\",method=\"GET\",path=\"/ml_api\",status=\"200\"} 1.0',\n",
       " 'flask_http_request_duration_seconds_bucket{le=\"0.1\",method=\"GET\",path=\"/ml_api\",status=\"200\"} 1.0',\n",
       " 'flask_http_request_duration_seconds_bucket{le=\"0.25\",method=\"GET\",path=\"/ml_api\",status=\"200\"} 1.0',\n",
       " 'flask_http_request_duration_seconds_bucket{le=\"0.5\",method=\"GET\",path=\"/ml_api\",status=\"200\"} 1.0',\n",
       " 'flask_http_request_duration_seconds_bucket{le=\"0.75\",method=\"GET\",path=\"/ml_api\",status=\"200\"} 1.0',\n",
       " 'flask_http_request_duration_seconds_bucket{le=\"1.0\",method=\"GET\",path=\"/ml_api\",status=\"200\"} 1.0',\n",
       " 'flask_http_request_duration_seconds_bucket{le=\"2.5\",method=\"GET\",path=\"/ml_api\",status=\"200\"} 1.0',\n",
       " 'flask_http_request_duration_seconds_bucket{le=\"5.0\",method=\"GET\",path=\"/ml_api\",status=\"200\"} 1.0',\n",
       " 'flask_http_request_duration_seconds_bucket{le=\"7.5\",method=\"GET\",path=\"/ml_api\",status=\"200\"} 1.0',\n",
       " 'flask_http_request_duration_seconds_bucket{le=\"10.0\",method=\"GET\",path=\"/ml_api\",status=\"200\"} 1.0',\n",
       " 'flask_http_request_duration_seconds_bucket{le=\"+Inf\",method=\"GET\",path=\"/ml_api\",status=\"200\"} 1.0',\n",
       " 'flask_http_request_duration_seconds_count{method=\"GET\",path=\"/ml_api\",status=\"200\"} 1.0',\n",
       " 'flask_http_request_duration_seconds_sum{method=\"GET\",path=\"/ml_api\",status=\"200\"} 0.0015153000131249428',\n",
       " 'flask_http_request_duration_seconds_bucket{le=\"0.005\",method=\"POST\",path=\"/ml_api\",status=\"200\"} 0.0',\n",
       " 'flask_http_request_duration_seconds_bucket{le=\"0.01\",method=\"POST\",path=\"/ml_api\",status=\"200\"} 0.0',\n",
       " 'flask_http_request_duration_seconds_bucket{le=\"0.025\",method=\"POST\",path=\"/ml_api\",status=\"200\"} 0.0',\n",
       " 'flask_http_request_duration_seconds_bucket{le=\"0.05\",method=\"POST\",path=\"/ml_api\",status=\"200\"} 0.0',\n",
       " 'flask_http_request_duration_seconds_bucket{le=\"0.075\",method=\"POST\",path=\"/ml_api\",status=\"200\"} 0.0',\n",
       " 'flask_http_request_duration_seconds_bucket{le=\"0.1\",method=\"POST\",path=\"/ml_api\",status=\"200\"} 0.0',\n",
       " 'flask_http_request_duration_seconds_bucket{le=\"0.25\",method=\"POST\",path=\"/ml_api\",status=\"200\"} 0.0',\n",
       " 'flask_http_request_duration_seconds_bucket{le=\"0.5\",method=\"POST\",path=\"/ml_api\",status=\"200\"} 0.0',\n",
       " 'flask_http_request_duration_seconds_bucket{le=\"0.75\",method=\"POST\",path=\"/ml_api\",status=\"200\"} 0.0',\n",
       " 'flask_http_request_duration_seconds_bucket{le=\"1.0\",method=\"POST\",path=\"/ml_api\",status=\"200\"} 0.0',\n",
       " 'flask_http_request_duration_seconds_bucket{le=\"2.5\",method=\"POST\",path=\"/ml_api\",status=\"200\"} 1.0',\n",
       " 'flask_http_request_duration_seconds_bucket{le=\"5.0\",method=\"POST\",path=\"/ml_api\",status=\"200\"} 2.0',\n",
       " 'flask_http_request_duration_seconds_bucket{le=\"7.5\",method=\"POST\",path=\"/ml_api\",status=\"200\"} 2.0',\n",
       " 'flask_http_request_duration_seconds_bucket{le=\"10.0\",method=\"POST\",path=\"/ml_api\",status=\"200\"} 2.0',\n",
       " 'flask_http_request_duration_seconds_bucket{le=\"+Inf\",method=\"POST\",path=\"/ml_api\",status=\"200\"} 2.0',\n",
       " 'flask_http_request_duration_seconds_count{method=\"POST\",path=\"/ml_api\",status=\"200\"} 2.0',\n",
       " 'flask_http_request_duration_seconds_sum{method=\"POST\",path=\"/ml_api\",status=\"200\"} 5.97573530000227',\n",
       " 'flask_http_request_duration_seconds_bucket{le=\"0.005\",method=\"GET\",path=\"/ml_api/all_models\",status=\"200\"} 7.0',\n",
       " 'flask_http_request_duration_seconds_bucket{le=\"0.01\",method=\"GET\",path=\"/ml_api/all_models\",status=\"200\"} 7.0',\n",
       " 'flask_http_request_duration_seconds_bucket{le=\"0.025\",method=\"GET\",path=\"/ml_api/all_models\",status=\"200\"} 7.0',\n",
       " 'flask_http_request_duration_seconds_bucket{le=\"0.05\",method=\"GET\",path=\"/ml_api/all_models\",status=\"200\"} 7.0',\n",
       " 'flask_http_request_duration_seconds_bucket{le=\"0.075\",method=\"GET\",path=\"/ml_api/all_models\",status=\"200\"} 7.0',\n",
       " 'flask_http_request_duration_seconds_bucket{le=\"0.1\",method=\"GET\",path=\"/ml_api/all_models\",status=\"200\"} 7.0',\n",
       " 'flask_http_request_duration_seconds_bucket{le=\"0.25\",method=\"GET\",path=\"/ml_api/all_models\",status=\"200\"} 7.0',\n",
       " 'flask_http_request_duration_seconds_bucket{le=\"0.5\",method=\"GET\",path=\"/ml_api/all_models\",status=\"200\"} 7.0',\n",
       " 'flask_http_request_duration_seconds_bucket{le=\"0.75\",method=\"GET\",path=\"/ml_api/all_models\",status=\"200\"} 7.0',\n",
       " 'flask_http_request_duration_seconds_bucket{le=\"1.0\",method=\"GET\",path=\"/ml_api/all_models\",status=\"200\"} 7.0',\n",
       " 'flask_http_request_duration_seconds_bucket{le=\"2.5\",method=\"GET\",path=\"/ml_api/all_models\",status=\"200\"} 7.0',\n",
       " 'flask_http_request_duration_seconds_bucket{le=\"5.0\",method=\"GET\",path=\"/ml_api/all_models\",status=\"200\"} 7.0',\n",
       " 'flask_http_request_duration_seconds_bucket{le=\"7.5\",method=\"GET\",path=\"/ml_api/all_models\",status=\"200\"} 7.0',\n",
       " 'flask_http_request_duration_seconds_bucket{le=\"10.0\",method=\"GET\",path=\"/ml_api/all_models\",status=\"200\"} 7.0',\n",
       " 'flask_http_request_duration_seconds_bucket{le=\"+Inf\",method=\"GET\",path=\"/ml_api/all_models\",status=\"200\"} 7.0',\n",
       " 'flask_http_request_duration_seconds_count{method=\"GET\",path=\"/ml_api/all_models\",status=\"200\"} 7.0',\n",
       " 'flask_http_request_duration_seconds_sum{method=\"GET\",path=\"/ml_api/all_models\",status=\"200\"} 0.004593000005115755',\n",
       " 'flask_http_request_duration_seconds_bucket{le=\"0.005\",method=\"POST\",path=\"/ml_api\",status=\"400\"} 0.0',\n",
       " 'flask_http_request_duration_seconds_bucket{le=\"0.01\",method=\"POST\",path=\"/ml_api\",status=\"400\"} 0.0',\n",
       " 'flask_http_request_duration_seconds_bucket{le=\"0.025\",method=\"POST\",path=\"/ml_api\",status=\"400\"} 0.0',\n",
       " 'flask_http_request_duration_seconds_bucket{le=\"0.05\",method=\"POST\",path=\"/ml_api\",status=\"400\"} 0.0',\n",
       " 'flask_http_request_duration_seconds_bucket{le=\"0.075\",method=\"POST\",path=\"/ml_api\",status=\"400\"} 1.0',\n",
       " 'flask_http_request_duration_seconds_bucket{le=\"0.1\",method=\"POST\",path=\"/ml_api\",status=\"400\"} 3.0',\n",
       " 'flask_http_request_duration_seconds_bucket{le=\"0.25\",method=\"POST\",path=\"/ml_api\",status=\"400\"} 3.0',\n",
       " 'flask_http_request_duration_seconds_bucket{le=\"0.5\",method=\"POST\",path=\"/ml_api\",status=\"400\"} 3.0',\n",
       " 'flask_http_request_duration_seconds_bucket{le=\"0.75\",method=\"POST\",path=\"/ml_api\",status=\"400\"} 3.0',\n",
       " 'flask_http_request_duration_seconds_bucket{le=\"1.0\",method=\"POST\",path=\"/ml_api\",status=\"400\"} 3.0',\n",
       " 'flask_http_request_duration_seconds_bucket{le=\"2.5\",method=\"POST\",path=\"/ml_api\",status=\"400\"} 3.0',\n",
       " 'flask_http_request_duration_seconds_bucket{le=\"5.0\",method=\"POST\",path=\"/ml_api\",status=\"400\"} 3.0',\n",
       " 'flask_http_request_duration_seconds_bucket{le=\"7.5\",method=\"POST\",path=\"/ml_api\",status=\"400\"} 3.0',\n",
       " 'flask_http_request_duration_seconds_bucket{le=\"10.0\",method=\"POST\",path=\"/ml_api\",status=\"400\"} 3.0',\n",
       " 'flask_http_request_duration_seconds_bucket{le=\"+Inf\",method=\"POST\",path=\"/ml_api\",status=\"400\"} 3.0',\n",
       " 'flask_http_request_duration_seconds_count{method=\"POST\",path=\"/ml_api\",status=\"400\"} 3.0',\n",
       " 'flask_http_request_duration_seconds_sum{method=\"POST\",path=\"/ml_api\",status=\"400\"} 0.22961900000518654',\n",
       " 'flask_http_request_duration_seconds_bucket{le=\"0.005\",method=\"POST\",path=\"/ml_api\",status=\"404\"} 0.0',\n",
       " 'flask_http_request_duration_seconds_bucket{le=\"0.01\",method=\"POST\",path=\"/ml_api\",status=\"404\"} 1.0',\n",
       " 'flask_http_request_duration_seconds_bucket{le=\"0.025\",method=\"POST\",path=\"/ml_api\",status=\"404\"} 1.0',\n",
       " 'flask_http_request_duration_seconds_bucket{le=\"0.05\",method=\"POST\",path=\"/ml_api\",status=\"404\"} 1.0',\n",
       " 'flask_http_request_duration_seconds_bucket{le=\"0.075\",method=\"POST\",path=\"/ml_api\",status=\"404\"} 1.0',\n",
       " 'flask_http_request_duration_seconds_bucket{le=\"0.1\",method=\"POST\",path=\"/ml_api\",status=\"404\"} 1.0',\n",
       " 'flask_http_request_duration_seconds_bucket{le=\"0.25\",method=\"POST\",path=\"/ml_api\",status=\"404\"} 1.0',\n",
       " 'flask_http_request_duration_seconds_bucket{le=\"0.5\",method=\"POST\",path=\"/ml_api\",status=\"404\"} 1.0',\n",
       " 'flask_http_request_duration_seconds_bucket{le=\"0.75\",method=\"POST\",path=\"/ml_api\",status=\"404\"} 1.0',\n",
       " 'flask_http_request_duration_seconds_bucket{le=\"1.0\",method=\"POST\",path=\"/ml_api\",status=\"404\"} 1.0',\n",
       " 'flask_http_request_duration_seconds_bucket{le=\"2.5\",method=\"POST\",path=\"/ml_api\",status=\"404\"} 1.0',\n",
       " 'flask_http_request_duration_seconds_bucket{le=\"5.0\",method=\"POST\",path=\"/ml_api\",status=\"404\"} 1.0',\n",
       " 'flask_http_request_duration_seconds_bucket{le=\"7.5\",method=\"POST\",path=\"/ml_api\",status=\"404\"} 1.0',\n",
       " 'flask_http_request_duration_seconds_bucket{le=\"10.0\",method=\"POST\",path=\"/ml_api\",status=\"404\"} 1.0',\n",
       " 'flask_http_request_duration_seconds_bucket{le=\"+Inf\",method=\"POST\",path=\"/ml_api\",status=\"404\"} 1.0',\n",
       " 'flask_http_request_duration_seconds_count{method=\"POST\",path=\"/ml_api\",status=\"404\"} 1.0',\n",
       " 'flask_http_request_duration_seconds_sum{method=\"POST\",path=\"/ml_api\",status=\"404\"} 0.007288399996468797',\n",
       " 'flask_http_request_duration_seconds_bucket{le=\"0.005\",method=\"GET\",path=\"/ml_api/boston_rf/1\",status=\"200\"} 0.0',\n",
       " 'flask_http_request_duration_seconds_bucket{le=\"0.01\",method=\"GET\",path=\"/ml_api/boston_rf/1\",status=\"200\"} 0.0',\n",
       " 'flask_http_request_duration_seconds_bucket{le=\"0.025\",method=\"GET\",path=\"/ml_api/boston_rf/1\",status=\"200\"} 0.0',\n",
       " 'flask_http_request_duration_seconds_bucket{le=\"0.05\",method=\"GET\",path=\"/ml_api/boston_rf/1\",status=\"200\"} 0.0',\n",
       " 'flask_http_request_duration_seconds_bucket{le=\"0.075\",method=\"GET\",path=\"/ml_api/boston_rf/1\",status=\"200\"} 0.0',\n",
       " 'flask_http_request_duration_seconds_bucket{le=\"0.1\",method=\"GET\",path=\"/ml_api/boston_rf/1\",status=\"200\"} 0.0',\n",
       " 'flask_http_request_duration_seconds_bucket{le=\"0.25\",method=\"GET\",path=\"/ml_api/boston_rf/1\",status=\"200\"} 1.0',\n",
       " 'flask_http_request_duration_seconds_bucket{le=\"0.5\",method=\"GET\",path=\"/ml_api/boston_rf/1\",status=\"200\"} 1.0',\n",
       " 'flask_http_request_duration_seconds_bucket{le=\"0.75\",method=\"GET\",path=\"/ml_api/boston_rf/1\",status=\"200\"} 1.0',\n",
       " 'flask_http_request_duration_seconds_bucket{le=\"1.0\",method=\"GET\",path=\"/ml_api/boston_rf/1\",status=\"200\"} 1.0',\n",
       " 'flask_http_request_duration_seconds_bucket{le=\"2.5\",method=\"GET\",path=\"/ml_api/boston_rf/1\",status=\"200\"} 1.0',\n",
       " 'flask_http_request_duration_seconds_bucket{le=\"5.0\",method=\"GET\",path=\"/ml_api/boston_rf/1\",status=\"200\"} 1.0',\n",
       " 'flask_http_request_duration_seconds_bucket{le=\"7.5\",method=\"GET\",path=\"/ml_api/boston_rf/1\",status=\"200\"} 1.0',\n",
       " 'flask_http_request_duration_seconds_bucket{le=\"10.0\",method=\"GET\",path=\"/ml_api/boston_rf/1\",status=\"200\"} 1.0',\n",
       " 'flask_http_request_duration_seconds_bucket{le=\"+Inf\",method=\"GET\",path=\"/ml_api/boston_rf/1\",status=\"200\"} 1.0',\n",
       " 'flask_http_request_duration_seconds_count{method=\"GET\",path=\"/ml_api/boston_rf/1\",status=\"200\"} 1.0',\n",
       " 'flask_http_request_duration_seconds_sum{method=\"GET\",path=\"/ml_api/boston_rf/1\",status=\"200\"} 0.11592470000323374',\n",
       " 'flask_http_request_duration_seconds_bucket{le=\"0.005\",method=\"PUT\",path=\"/ml_api/boston_rf/1\",status=\"200\"} 0.0',\n",
       " 'flask_http_request_duration_seconds_bucket{le=\"0.01\",method=\"PUT\",path=\"/ml_api/boston_rf/1\",status=\"200\"} 0.0',\n",
       " 'flask_http_request_duration_seconds_bucket{le=\"0.025\",method=\"PUT\",path=\"/ml_api/boston_rf/1\",status=\"200\"} 0.0',\n",
       " 'flask_http_request_duration_seconds_bucket{le=\"0.05\",method=\"PUT\",path=\"/ml_api/boston_rf/1\",status=\"200\"} 0.0',\n",
       " 'flask_http_request_duration_seconds_bucket{le=\"0.075\",method=\"PUT\",path=\"/ml_api/boston_rf/1\",status=\"200\"} 0.0',\n",
       " 'flask_http_request_duration_seconds_bucket{le=\"0.1\",method=\"PUT\",path=\"/ml_api/boston_rf/1\",status=\"200\"} 0.0',\n",
       " 'flask_http_request_duration_seconds_bucket{le=\"0.25\",method=\"PUT\",path=\"/ml_api/boston_rf/1\",status=\"200\"} 0.0',\n",
       " 'flask_http_request_duration_seconds_bucket{le=\"0.5\",method=\"PUT\",path=\"/ml_api/boston_rf/1\",status=\"200\"} 0.0',\n",
       " 'flask_http_request_duration_seconds_bucket{le=\"0.75\",method=\"PUT\",path=\"/ml_api/boston_rf/1\",status=\"200\"} 0.0',\n",
       " 'flask_http_request_duration_seconds_bucket{le=\"1.0\",method=\"PUT\",path=\"/ml_api/boston_rf/1\",status=\"200\"} 0.0',\n",
       " 'flask_http_request_duration_seconds_bucket{le=\"2.5\",method=\"PUT\",path=\"/ml_api/boston_rf/1\",status=\"200\"} 1.0',\n",
       " 'flask_http_request_duration_seconds_bucket{le=\"5.0\",method=\"PUT\",path=\"/ml_api/boston_rf/1\",status=\"200\"} 1.0',\n",
       " 'flask_http_request_duration_seconds_bucket{le=\"7.5\",method=\"PUT\",path=\"/ml_api/boston_rf/1\",status=\"200\"} 1.0',\n",
       " 'flask_http_request_duration_seconds_bucket{le=\"10.0\",method=\"PUT\",path=\"/ml_api/boston_rf/1\",status=\"200\"} 1.0',\n",
       " 'flask_http_request_duration_seconds_bucket{le=\"+Inf\",method=\"PUT\",path=\"/ml_api/boston_rf/1\",status=\"200\"} 1.0',\n",
       " 'flask_http_request_duration_seconds_count{method=\"PUT\",path=\"/ml_api/boston_rf/1\",status=\"200\"} 1.0',\n",
       " 'flask_http_request_duration_seconds_sum{method=\"PUT\",path=\"/ml_api/boston_rf/1\",status=\"200\"} 1.9628688000084367',\n",
       " 'flask_http_request_duration_seconds_bucket{le=\"0.005\",method=\"DELETE\",path=\"/ml_api/boston_rf/2\",status=\"204\"} 0.0',\n",
       " 'flask_http_request_duration_seconds_bucket{le=\"0.01\",method=\"DELETE\",path=\"/ml_api/boston_rf/2\",status=\"204\"} 0.0',\n",
       " 'flask_http_request_duration_seconds_bucket{le=\"0.025\",method=\"DELETE\",path=\"/ml_api/boston_rf/2\",status=\"204\"} 0.0',\n",
       " 'flask_http_request_duration_seconds_bucket{le=\"0.05\",method=\"DELETE\",path=\"/ml_api/boston_rf/2\",status=\"204\"} 1.0',\n",
       " 'flask_http_request_duration_seconds_bucket{le=\"0.075\",method=\"DELETE\",path=\"/ml_api/boston_rf/2\",status=\"204\"} 1.0',\n",
       " 'flask_http_request_duration_seconds_bucket{le=\"0.1\",method=\"DELETE\",path=\"/ml_api/boston_rf/2\",status=\"204\"} 1.0',\n",
       " 'flask_http_request_duration_seconds_bucket{le=\"0.25\",method=\"DELETE\",path=\"/ml_api/boston_rf/2\",status=\"204\"} 1.0',\n",
       " 'flask_http_request_duration_seconds_bucket{le=\"0.5\",method=\"DELETE\",path=\"/ml_api/boston_rf/2\",status=\"204\"} 1.0',\n",
       " 'flask_http_request_duration_seconds_bucket{le=\"0.75\",method=\"DELETE\",path=\"/ml_api/boston_rf/2\",status=\"204\"} 1.0',\n",
       " 'flask_http_request_duration_seconds_bucket{le=\"1.0\",method=\"DELETE\",path=\"/ml_api/boston_rf/2\",status=\"204\"} 1.0',\n",
       " 'flask_http_request_duration_seconds_bucket{le=\"2.5\",method=\"DELETE\",path=\"/ml_api/boston_rf/2\",status=\"204\"} 1.0',\n",
       " 'flask_http_request_duration_seconds_bucket{le=\"5.0\",method=\"DELETE\",path=\"/ml_api/boston_rf/2\",status=\"204\"} 1.0',\n",
       " 'flask_http_request_duration_seconds_bucket{le=\"7.5\",method=\"DELETE\",path=\"/ml_api/boston_rf/2\",status=\"204\"} 1.0',\n",
       " 'flask_http_request_duration_seconds_bucket{le=\"10.0\",method=\"DELETE\",path=\"/ml_api/boston_rf/2\",status=\"204\"} 1.0',\n",
       " 'flask_http_request_duration_seconds_bucket{le=\"+Inf\",method=\"DELETE\",path=\"/ml_api/boston_rf/2\",status=\"204\"} 1.0',\n",
       " 'flask_http_request_duration_seconds_count{method=\"DELETE\",path=\"/ml_api/boston_rf/2\",status=\"204\"} 1.0',\n",
       " 'flask_http_request_duration_seconds_sum{method=\"DELETE\",path=\"/ml_api/boston_rf/2\",status=\"204\"} 0.047802300003240816',\n",
       " 'flask_http_request_duration_seconds_bucket{le=\"0.005\",method=\"GET\",path=\"/ml_api/boston_rf/2\",status=\"404\"} 1.0',\n",
       " 'flask_http_request_duration_seconds_bucket{le=\"0.01\",method=\"GET\",path=\"/ml_api/boston_rf/2\",status=\"404\"} 1.0',\n",
       " 'flask_http_request_duration_seconds_bucket{le=\"0.025\",method=\"GET\",path=\"/ml_api/boston_rf/2\",status=\"404\"} 1.0',\n",
       " 'flask_http_request_duration_seconds_bucket{le=\"0.05\",method=\"GET\",path=\"/ml_api/boston_rf/2\",status=\"404\"} 1.0',\n",
       " 'flask_http_request_duration_seconds_bucket{le=\"0.075\",method=\"GET\",path=\"/ml_api/boston_rf/2\",status=\"404\"} 1.0',\n",
       " 'flask_http_request_duration_seconds_bucket{le=\"0.1\",method=\"GET\",path=\"/ml_api/boston_rf/2\",status=\"404\"} 1.0',\n",
       " 'flask_http_request_duration_seconds_bucket{le=\"0.25\",method=\"GET\",path=\"/ml_api/boston_rf/2\",status=\"404\"} 1.0',\n",
       " 'flask_http_request_duration_seconds_bucket{le=\"0.5\",method=\"GET\",path=\"/ml_api/boston_rf/2\",status=\"404\"} 1.0',\n",
       " 'flask_http_request_duration_seconds_bucket{le=\"0.75\",method=\"GET\",path=\"/ml_api/boston_rf/2\",status=\"404\"} 1.0',\n",
       " 'flask_http_request_duration_seconds_bucket{le=\"1.0\",method=\"GET\",path=\"/ml_api/boston_rf/2\",status=\"404\"} 1.0',\n",
       " 'flask_http_request_duration_seconds_bucket{le=\"2.5\",method=\"GET\",path=\"/ml_api/boston_rf/2\",status=\"404\"} 1.0',\n",
       " 'flask_http_request_duration_seconds_bucket{le=\"5.0\",method=\"GET\",path=\"/ml_api/boston_rf/2\",status=\"404\"} 1.0',\n",
       " 'flask_http_request_duration_seconds_bucket{le=\"7.5\",method=\"GET\",path=\"/ml_api/boston_rf/2\",status=\"404\"} 1.0',\n",
       " 'flask_http_request_duration_seconds_bucket{le=\"10.0\",method=\"GET\",path=\"/ml_api/boston_rf/2\",status=\"404\"} 1.0',\n",
       " 'flask_http_request_duration_seconds_bucket{le=\"+Inf\",method=\"GET\",path=\"/ml_api/boston_rf/2\",status=\"404\"} 1.0',\n",
       " 'flask_http_request_duration_seconds_count{method=\"GET\",path=\"/ml_api/boston_rf/2\",status=\"404\"} 1.0',\n",
       " 'flask_http_request_duration_seconds_sum{method=\"GET\",path=\"/ml_api/boston_rf/2\",status=\"404\"} 0.0012879999994765967',\n",
       " 'flask_http_request_duration_seconds_bucket{le=\"0.005\",method=\"GET\",path=\"/ml_api/metrics\",status=\"404\"} 1.0',\n",
       " 'flask_http_request_duration_seconds_bucket{le=\"0.01\",method=\"GET\",path=\"/ml_api/metrics\",status=\"404\"} 1.0',\n",
       " 'flask_http_request_duration_seconds_bucket{le=\"0.025\",method=\"GET\",path=\"/ml_api/metrics\",status=\"404\"} 1.0',\n",
       " 'flask_http_request_duration_seconds_bucket{le=\"0.05\",method=\"GET\",path=\"/ml_api/metrics\",status=\"404\"} 1.0',\n",
       " 'flask_http_request_duration_seconds_bucket{le=\"0.075\",method=\"GET\",path=\"/ml_api/metrics\",status=\"404\"} 1.0',\n",
       " 'flask_http_request_duration_seconds_bucket{le=\"0.1\",method=\"GET\",path=\"/ml_api/metrics\",status=\"404\"} 1.0',\n",
       " 'flask_http_request_duration_seconds_bucket{le=\"0.25\",method=\"GET\",path=\"/ml_api/metrics\",status=\"404\"} 1.0',\n",
       " 'flask_http_request_duration_seconds_bucket{le=\"0.5\",method=\"GET\",path=\"/ml_api/metrics\",status=\"404\"} 1.0',\n",
       " 'flask_http_request_duration_seconds_bucket{le=\"0.75\",method=\"GET\",path=\"/ml_api/metrics\",status=\"404\"} 1.0',\n",
       " 'flask_http_request_duration_seconds_bucket{le=\"1.0\",method=\"GET\",path=\"/ml_api/metrics\",status=\"404\"} 1.0',\n",
       " 'flask_http_request_duration_seconds_bucket{le=\"2.5\",method=\"GET\",path=\"/ml_api/metrics\",status=\"404\"} 1.0',\n",
       " 'flask_http_request_duration_seconds_bucket{le=\"5.0\",method=\"GET\",path=\"/ml_api/metrics\",status=\"404\"} 1.0',\n",
       " 'flask_http_request_duration_seconds_bucket{le=\"7.5\",method=\"GET\",path=\"/ml_api/metrics\",status=\"404\"} 1.0',\n",
       " 'flask_http_request_duration_seconds_bucket{le=\"10.0\",method=\"GET\",path=\"/ml_api/metrics\",status=\"404\"} 1.0',\n",
       " 'flask_http_request_duration_seconds_bucket{le=\"+Inf\",method=\"GET\",path=\"/ml_api/metrics\",status=\"404\"} 1.0',\n",
       " 'flask_http_request_duration_seconds_count{method=\"GET\",path=\"/ml_api/metrics\",status=\"404\"} 1.0',\n",
       " 'flask_http_request_duration_seconds_sum{method=\"GET\",path=\"/ml_api/metrics\",status=\"404\"} 0.00043929999810643494',\n",
       " '# HELP flask_http_request_duration_seconds_created Flask HTTP request duration in seconds',\n",
       " '# TYPE flask_http_request_duration_seconds_created gauge',\n",
       " 'flask_http_request_duration_seconds_created{method=\"GET\",path=\"/ml_api\",status=\"200\"} 1.6400251299988415e+09',\n",
       " 'flask_http_request_duration_seconds_created{method=\"POST\",path=\"/ml_api\",status=\"200\"} 1.640025431312859e+09',\n",
       " 'flask_http_request_duration_seconds_created{method=\"GET\",path=\"/ml_api/all_models\",status=\"200\"} 1.6400255061506448e+09',\n",
       " 'flask_http_request_duration_seconds_created{method=\"POST\",path=\"/ml_api\",status=\"400\"} 1.6400257212942708e+09',\n",
       " 'flask_http_request_duration_seconds_created{method=\"POST\",path=\"/ml_api\",status=\"404\"} 1.6400257483933213e+09',\n",
       " 'flask_http_request_duration_seconds_created{method=\"GET\",path=\"/ml_api/boston_rf/1\",status=\"200\"} 1.6400257933230162e+09',\n",
       " 'flask_http_request_duration_seconds_created{method=\"PUT\",path=\"/ml_api/boston_rf/1\",status=\"200\"} 1.6400258519732375e+09',\n",
       " 'flask_http_request_duration_seconds_created{method=\"DELETE\",path=\"/ml_api/boston_rf/2\",status=\"204\"} 1.6400259697229097e+09',\n",
       " 'flask_http_request_duration_seconds_created{method=\"GET\",path=\"/ml_api/boston_rf/2\",status=\"404\"} 1.6400259876711178e+09',\n",
       " 'flask_http_request_duration_seconds_created{method=\"GET\",path=\"/ml_api/metrics\",status=\"404\"} 1.6400261251572871e+09',\n",
       " '# HELP flask_http_request_total Total number of HTTP requests',\n",
       " '# TYPE flask_http_request_total counter',\n",
       " 'flask_http_request_total{method=\"GET\",status=\"200\"} 9.0',\n",
       " 'flask_http_request_total{method=\"POST\",status=\"200\"} 2.0',\n",
       " 'flask_http_request_total{method=\"POST\",status=\"400\"} 3.0',\n",
       " 'flask_http_request_total{method=\"POST\",status=\"404\"} 1.0',\n",
       " 'flask_http_request_total{method=\"PUT\",status=\"200\"} 1.0',\n",
       " 'flask_http_request_total{method=\"DELETE\",status=\"204\"} 1.0',\n",
       " 'flask_http_request_total{method=\"GET\",status=\"404\"} 2.0',\n",
       " '# HELP flask_http_request_created Total number of HTTP requests',\n",
       " '# TYPE flask_http_request_created gauge',\n",
       " 'flask_http_request_created{method=\"GET\",status=\"200\"} 1.6400251299990184e+09',\n",
       " 'flask_http_request_created{method=\"POST\",status=\"200\"} 1.6400254313129475e+09',\n",
       " 'flask_http_request_created{method=\"POST\",status=\"400\"} 1.6400257212943587e+09',\n",
       " 'flask_http_request_created{method=\"POST\",status=\"404\"} 1.6400257483934171e+09',\n",
       " 'flask_http_request_created{method=\"PUT\",status=\"200\"} 1.640025851973333e+09',\n",
       " 'flask_http_request_created{method=\"DELETE\",status=\"204\"} 1.6400259697231576e+09',\n",
       " 'flask_http_request_created{method=\"GET\",status=\"404\"} 1.6400259876713326e+09',\n",
       " '# HELP flask_http_request_exceptions_total Total number of HTTP requests which resulted in an exception',\n",
       " '# TYPE flask_http_request_exceptions_total counter',\n",
       " '# HELP by_status_counter_total Request count by status codes',\n",
       " '# TYPE by_status_counter_total counter',\n",
       " 'by_status_counter_total{status=\"200\"} 12.0',\n",
       " 'by_status_counter_total{status=\"400\"} 3.0',\n",
       " 'by_status_counter_total{status=\"404\"} 2.0',\n",
       " 'by_status_counter_total{status=\"204\"} 1.0',\n",
       " '# HELP by_status_counter_created Request count by status codes',\n",
       " '# TYPE by_status_counter_created gauge',\n",
       " 'by_status_counter_created{status=\"200\"} 1.6400251299985826e+09',\n",
       " 'by_status_counter_created{status=\"400\"} 1.6400257212941358e+09',\n",
       " 'by_status_counter_created{status=\"404\"} 1.6400257483931787e+09',\n",
       " 'by_status_counter_created{status=\"204\"} 1.6400259697226298e+09',\n",
       " '# HELP cnt_get_models_total Number of ml models gets',\n",
       " '# TYPE cnt_get_models_total counter',\n",
       " 'cnt_get_models_total 1.0',\n",
       " '# HELP cnt_get_models_created Number of ml models gets',\n",
       " '# TYPE cnt_get_models_created gauge',\n",
       " 'cnt_get_models_created 1.6400251147313867e+09',\n",
       " '# HELP cnt_trains Number of fitting tasks per model name',\n",
       " '# TYPE cnt_trains summary',\n",
       " 'cnt_trains_count{model_name=\"boston_rf\",status=\"200\"} 2.0',\n",
       " 'cnt_trains_sum{model_name=\"boston_rf\",status=\"200\"} 5.974961699990672',\n",
       " 'cnt_trains_count{model_name=\"boston_rf\",status=\"400\"} 3.0',\n",
       " 'cnt_trains_sum{model_name=\"boston_rf\",status=\"400\"} 0.2283533999870997',\n",
       " 'cnt_trains_count{model_name=\"boston_rf\",status=\"404\"} 1.0',\n",
       " 'cnt_trains_sum{model_name=\"boston_rf\",status=\"404\"} 0.006945900007849559',\n",
       " '# HELP cnt_trains_created Number of fitting tasks per model name',\n",
       " '# TYPE cnt_trains_created gauge',\n",
       " 'cnt_trains_created{model_name=\"boston_rf\",status=\"200\"} 1.640025431312664e+09',\n",
       " 'cnt_trains_created{model_name=\"boston_rf\",status=\"400\"} 1.640025721294058e+09',\n",
       " 'cnt_trains_created{model_name=\"boston_rf\",status=\"404\"} 1.6400257483930988e+09',\n",
       " '# HELP cnt_estimator_uses Number of fitting tasks per estimator',\n",
       " '# TYPE cnt_estimator_uses summary',\n",
       " 'cnt_estimator_uses_count{estimator=\"RandomForestRegressor\",status=\"200\"} 2.0',\n",
       " 'cnt_estimator_uses_sum{estimator=\"RandomForestRegressor\",status=\"200\"} 5.973926200007554',\n",
       " 'cnt_estimator_uses_count{estimator=\"RandomForestRegressor\",status=\"400\"} 2.0',\n",
       " 'cnt_estimator_uses_sum{estimator=\"RandomForestRegressor\",status=\"400\"} 0.14993900000990834',\n",
       " 'cnt_estimator_uses_count{estimator=\"RandomForestClassifier\",status=\"400\"} 1.0',\n",
       " 'cnt_estimator_uses_sum{estimator=\"RandomForestClassifier\",status=\"400\"} 0.0774944000004325',\n",
       " 'cnt_estimator_uses_count{estimator=\"GradientBoostingRegressor\",status=\"404\"} 1.0',\n",
       " 'cnt_estimator_uses_sum{estimator=\"GradientBoostingRegressor\",status=\"404\"} 0.0065015000000130385',\n",
       " '# HELP cnt_estimator_uses_created Number of fitting tasks per estimator',\n",
       " '# TYPE cnt_estimator_uses_created gauge',\n",
       " 'cnt_estimator_uses_created{estimator=\"RandomForestRegressor\",status=\"200\"} 1.6400254313125591e+09',\n",
       " 'cnt_estimator_uses_created{estimator=\"RandomForestRegressor\",status=\"400\"} 1.6400257212939541e+09',\n",
       " 'cnt_estimator_uses_created{estimator=\"RandomForestClassifier\",status=\"400\"} 1.6400257354425764e+09',\n",
       " 'cnt_estimator_uses_created{estimator=\"GradientBoostingRegressor\",status=\"404\"} 1.6400257483929756e+09',\n",
       " '# HELP cnt_get_preds_total Number of prediction tasks per model name',\n",
       " '# TYPE cnt_get_preds_total counter',\n",
       " 'cnt_get_preds_total{model_name=\"boston_rf\",status=\"200\"} 1.0',\n",
       " 'cnt_get_preds_total{model_name=\"boston_rf\",status=\"404\"} 1.0',\n",
       " '# HELP cnt_get_preds_created Number of prediction tasks per model name',\n",
       " '# TYPE cnt_get_preds_created gauge',\n",
       " 'cnt_get_preds_created{model_name=\"boston_rf\",status=\"200\"} 1.640025793322722e+09',\n",
       " 'cnt_get_preds_created{model_name=\"boston_rf\",status=\"404\"} 1.640025987670798e+09',\n",
       " '# HELP cnt_retrains Number of retrains per model name',\n",
       " '# TYPE cnt_retrains summary',\n",
       " 'cnt_retrains_count{model_name=\"boston_rf\",status=\"200\"} 1.0',\n",
       " 'cnt_retrains_sum{model_name=\"boston_rf\",status=\"200\"} 1.9623095999995712',\n",
       " '# HELP cnt_retrains_created Number of retrains per model name',\n",
       " '# TYPE cnt_retrains_created gauge',\n",
       " 'cnt_retrains_created{model_name=\"boston_rf\",status=\"200\"} 1.6400258519729989e+09',\n",
       " '# HELP cnt_deletes_total Number of deletions per model name',\n",
       " '# TYPE cnt_deletes_total counter',\n",
       " 'cnt_deletes_total{model_name=\"boston_rf\",status=\"204\"} 1.0',\n",
       " '# HELP cnt_deletes_created Number of deletions per model name',\n",
       " '# TYPE cnt_deletes_created gauge',\n",
       " 'cnt_deletes_created{model_name=\"boston_rf\",status=\"204\"} 1.6400259697221742e+09',\n",
       " '# HELP cnt_get_all_models_total Number of all models gets',\n",
       " '# TYPE cnt_get_all_models_total counter',\n",
       " 'cnt_get_all_models_total 7.0',\n",
       " '# HELP cnt_get_all_models_created Number of all models gets',\n",
       " '# TYPE cnt_get_all_models_created gauge',\n",
       " 'cnt_get_all_models_created 1.6400251147348914e+09',\n",
       " '']"
      ]
     },
     "execution_count": 28,
     "metadata": {},
     "output_type": "execute_result"
    }
   ],
   "source": [
    "requests.get('http://0.0.0.0:8080/metrics').text.split('\\n')"
   ]
  },
  {
   "cell_type": "code",
   "execution_count": null,
   "metadata": {},
   "outputs": [],
   "source": []
  }
 ],
 "metadata": {
  "kernelspec": {
   "display_name": "Python 3 (ipykernel)",
   "language": "python",
   "name": "python3"
  },
  "language_info": {
   "codemirror_mode": {
    "name": "ipython",
    "version": 3
   },
   "file_extension": ".py",
   "mimetype": "text/x-python",
   "name": "python",
   "nbconvert_exporter": "python",
   "pygments_lexer": "ipython3",
   "version": "3.8.12"
  }
 },
 "nbformat": 4,
 "nbformat_minor": 4
}
