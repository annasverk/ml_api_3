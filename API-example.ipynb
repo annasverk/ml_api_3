{
 "cells": [
  {
   "cell_type": "markdown",
   "metadata": {},
   "source": [
    "## API example\n",
    "\n",
    "Что можно сделать с помощью __ml_api__?\n",
    "1. Вернуть список доступных для обучения классов моделей\n",
    "2. Обучить ML-модель с возможностью настройки гиперпараметров. При этом гиперпараметры для разных моделей могут быть разные. Количество классов моделей доступных для обучения = 4\n",
    "3. Вернуть предсказание конкретной модели (система умеет хранить несколько обученных моделей)\n",
    "4. Обучить заново и удалить уже обученные модели\n",
    "\n",
    "С помощью __results__ можно посмотреть статус или результат задачи обучения модели или расчета предсказаний, выполняемой другим контейнером, по ее id.\n",
    "\n",
    "С помощью __metrics__ можно выполнять CRUD операции с базой данных метрик качества обученных ML-моделей.\n",
    "\n",
    "---"
   ]
  },
  {
   "cell_type": "markdown",
   "metadata": {},
   "source": [
    "Сперва необходимо запустить утилиту `docker-compose`"
   ]
  },
  {
   "cell_type": "code",
   "execution_count": 1,
   "metadata": {},
   "outputs": [],
   "source": [
    "import requests\n",
    "import io\n",
    "import pandas as pd\n",
    "from sklearn.datasets import load_iris, load_boston"
   ]
  },
  {
   "cell_type": "markdown",
   "metadata": {},
   "source": [
    "Демонстрировать возможности API будем на датасетах _boston_ (задача регрессии) и _iris_ (задача классификации)"
   ]
  },
  {
   "cell_type": "code",
   "execution_count": 2,
   "metadata": {},
   "outputs": [],
   "source": [
    "iris_data = load_iris()\n",
    "iris_df = pd.DataFrame(iris_data.data, columns=iris_data.feature_names)\n",
    "iris_df['species'] = iris_data.target\n",
    "iris_json = iris_df.to_json()\n",
    "\n",
    "boston_data = load_boston()\n",
    "boston_df = pd.DataFrame(boston_data.data, columns=boston_data.feature_names)\n",
    "boston_df['PRICE'] = boston_data.target\n",
    "boston_json = boston_df.to_json()"
   ]
  },
  {
   "cell_type": "markdown",
   "metadata": {},
   "source": [
    "Метод __get__ возвращает список доступных для обучения моделей, а точнее алгоритмов из `sklearn`. Это сделано для того, чтобы сразу определялся тип задачи – регрессия или классификация. Всего реализовано 4 класса моделей:\n",
    "- Линейные модели\n",
    "- Метод опорных векторов\n",
    "- Дерево решений\n",
    "- Случайный лес"
   ]
  },
  {
   "cell_type": "code",
   "execution_count": 3,
   "metadata": {},
   "outputs": [
    {
     "data": {
      "text/plain": [
       "['LogisticRegression',\n",
       " 'SVC',\n",
       " 'DecisionTreeClassifier',\n",
       " 'RandomForestClassifier',\n",
       " 'Ridge',\n",
       " 'SVR',\n",
       " 'DecisionTreeRegressor',\n",
       " 'RandomForestRegressor']"
      ]
     },
     "execution_count": 3,
     "metadata": {},
     "output_type": "execute_result"
    }
   ],
   "source": [
    "resp = requests.get('http://0.0.0.0:8080/ml_api')\n",
    "resp.json()"
   ]
  },
  {
   "cell_type": "markdown",
   "metadata": {},
   "source": [
    "Чтобы обучить модель, необходимо вызвать метод __post__ и передать в параметр __json__ всю необходимую информацию, а именно:\n",
    "- model (str) – модель, которую необходимо обучить (нужно выбрать из списка)\n",
    "- data (json) – данные в формате json, на которых надо обучить модель (поддерживаются только количественные признаки, таргет – последний элемент файла)\n",
    "- params (dict) – гиперпараметры модели, по умолчанию используются дефолтные значения соответствующего алгоритма в `sklearn`\n",
    "- grid_search (bool) – надо ли делать подбор оптимальных значений гиперпараметров, по умолчанию нет\n",
    "- param_grid (dict) – сетка для перебора значений гиперпараметров, по умолчанию используется заданная сетка\n",
    "\n",
    "Внутри данного метода, помимо сохранения обучающих и тестовых данных (разбиение производится автоматически случайным образом в соотношении 7:3), обучения модели и сохранения модели, также рассчитываются метрики качества в зависимости от класса модели, которые затем могут быть записаны в базу данных. Пример см ниже.\n",
    "\n",
    "Основное отличие от первой версии приложения это то, что теперь методы, предполагающие обучение модели и расчет предсказаний, выдают id таска, результаты выполнения которого можно посмотреть __get__-запросом по пути `/results/<model_id>`."
   ]
  },
  {
   "cell_type": "code",
   "execution_count": 4,
   "metadata": {},
   "outputs": [
    {
     "data": {
      "text/plain": [
       "(200, 'Task_id = b09bf95a-516d-4ff9-bcf6-e03f4ad9ba30')"
      ]
     },
     "execution_count": 4,
     "metadata": {},
     "output_type": "execute_result"
    }
   ],
   "source": [
    "payload = {'model': 'RandomForestRegressor', 'data': boston_json}\n",
    "response = requests.post('http://0.0.0.0:8080/ml_api', json=payload)\n",
    "response.status_code, response.json()"
   ]
  },
  {
   "cell_type": "code",
   "execution_count": 6,
   "metadata": {},
   "outputs": [
    {
     "data": {
      "text/plain": [
       "(200, 'RandomForestRegressor is fitted and saved')"
      ]
     },
     "execution_count": 6,
     "metadata": {},
     "output_type": "execute_result"
    }
   ],
   "source": [
    "response = requests.get('http://0.0.0.0:8080/results/b09bf95a-516d-4ff9-bcf6-e03f4ad9ba30')\n",
    "response.status_code, response.json()"
   ]
  },
  {
   "cell_type": "markdown",
   "metadata": {},
   "source": [
    "Чтобы посмотреть информацию обо всех обученных моделях, надо вызвать метод __get__ по адресу `/ml_api/all_models`. Для каждой модели хранится ее id, название, гиперпараметры, было ли обучение модели заново и была ли она удалена. Это своего рода файл истории использования API. Данные и модель сохраняются в файлы, в названии которых указан id модели, в папках `./worker/data` и `./worker/models` соответственно. "
   ]
  },
  {
   "cell_type": "code",
   "execution_count": 7,
   "metadata": {
    "scrolled": true
   },
   "outputs": [
    {
     "data": {
      "text/plain": [
       "{'1': {'model': 'RandomForestRegressor',\n",
       "  'params': {'bootstrap': True,\n",
       "   'ccp_alpha': 0.0,\n",
       "   'criterion': 'mse',\n",
       "   'max_depth': None,\n",
       "   'max_features': 'auto',\n",
       "   'max_leaf_nodes': None,\n",
       "   'max_samples': None,\n",
       "   'min_impurity_decrease': 0.0,\n",
       "   'min_impurity_split': None,\n",
       "   'min_samples_leaf': 1,\n",
       "   'min_samples_split': 2,\n",
       "   'min_weight_fraction_leaf': 0.0,\n",
       "   'n_estimators': 100,\n",
       "   'n_jobs': None,\n",
       "   'oob_score': False,\n",
       "   'random_state': None,\n",
       "   'verbose': 0,\n",
       "   'warm_start': False},\n",
       "  'retrained': False,\n",
       "  'deleted': False}}"
      ]
     },
     "execution_count": 7,
     "metadata": {},
     "output_type": "execute_result"
    }
   ],
   "source": [
    "response = requests.get('http://0.0.0.0:8080/ml_api/all_models')\n",
    "response.json()"
   ]
  },
  {
   "cell_type": "markdown",
   "metadata": {},
   "source": [
    "Параметры модели, также как и сетку для их перебора, можно либо задать вручную, либо не задавать вовсе. В последнем случае используются дефолтные параметры. "
   ]
  },
  {
   "cell_type": "code",
   "execution_count": 8,
   "metadata": {},
   "outputs": [
    {
     "data": {
      "text/plain": [
       "(200, 'Task_id = 146b2cd1-bbcd-44af-b91f-adf8591714c0')"
      ]
     },
     "execution_count": 8,
     "metadata": {},
     "output_type": "execute_result"
    }
   ],
   "source": [
    "payload = {'model': 'RandomForestRegressor',\n",
    "           'params': {'n_estimators': 200, 'max_depth': 10, 'min_samples_leaf': 3},\n",
    "           'data': boston_json}\n",
    "response = requests.post('http://0.0.0.0:8080/ml_api', json=payload)\n",
    "response.status_code, response.json()"
   ]
  },
  {
   "cell_type": "code",
   "execution_count": 9,
   "metadata": {},
   "outputs": [
    {
     "data": {
      "text/plain": [
       "(200, 'RandomForestRegressor is fitted and saved')"
      ]
     },
     "execution_count": 9,
     "metadata": {},
     "output_type": "execute_result"
    }
   ],
   "source": [
    "response = requests.get('http://0.0.0.0:8080/results/146b2cd1-bbcd-44af-b91f-adf8591714c0')\n",
    "response.status_code, response.json()"
   ]
  },
  {
   "cell_type": "markdown",
   "metadata": {},
   "source": [
    "API поддерживает работу только с количественными признаками. Если попытаться подать категориальные данные, выпадет ошибка 400. "
   ]
  },
  {
   "cell_type": "code",
   "execution_count": 10,
   "metadata": {},
   "outputs": [],
   "source": [
    "boston_df_cat = pd.DataFrame(boston_data.data, columns=boston_data.feature_names)\n",
    "boston_df_cat['category'] = 'a'\n",
    "boston_df_cat['PRICE'] = boston_data.target\n",
    "boston_json_cat = boston_df_cat.to_json()"
   ]
  },
  {
   "cell_type": "code",
   "execution_count": 11,
   "metadata": {},
   "outputs": [
    {
     "data": {
      "text/plain": [
       "(400, 'Could not support categorical features')"
      ]
     },
     "execution_count": 11,
     "metadata": {},
     "output_type": "execute_result"
    }
   ],
   "source": [
    "payload = {'model': 'RandomForestRegressor', 'data': boston_json_cat}\n",
    "response = requests.post('http://0.0.0.0:8080/ml_api', json=payload)\n",
    "response.status_code, response.json()"
   ]
  },
  {
   "cell_type": "markdown",
   "metadata": {},
   "source": [
    "Также ошибка выпадет, если пытаться строить модель не из списка доступных; использовать модель классификации для решения задачи регрессии и наоборот; передавать неправильный гиперпараметр (не поддерживаемый данным алгоритмом)"
   ]
  },
  {
   "cell_type": "code",
   "execution_count": 12,
   "metadata": {},
   "outputs": [
    {
     "data": {
      "text/plain": [
       "(400, 'RandomForestClassifier can only be used for classification tasks')"
      ]
     },
     "execution_count": 12,
     "metadata": {},
     "output_type": "execute_result"
    }
   ],
   "source": [
    "payload = {'model': 'RandomForestClassifier', 'data': boston_json}\n",
    "response = requests.post('http://0.0.0.0:8080/ml_api', json=payload)\n",
    "response.status_code, response.json()"
   ]
  },
  {
   "cell_type": "code",
   "execution_count": 13,
   "metadata": {},
   "outputs": [
    {
     "data": {
      "text/plain": [
       "(404,\n",
       " \"Can only train one of ['LogisticRegression', 'SVC', 'DecisionTreeClassifier', 'RandomForestClassifier', 'Ridge', 'SVR', 'DecisionTreeRegressor', 'RandomForestRegressor'] models\")"
      ]
     },
     "execution_count": 13,
     "metadata": {},
     "output_type": "execute_result"
    }
   ],
   "source": [
    "payload = {'model': 'GradientBoostingRegressor', 'data': boston_json}\n",
    "response = requests.post('http://0.0.0.0:8080/ml_api', json=payload)\n",
    "response.status_code, response.json()"
   ]
  },
  {
   "cell_type": "code",
   "execution_count": 14,
   "metadata": {},
   "outputs": [
    {
     "data": {
      "text/plain": [
       "(400,\n",
       " \"RandomForestRegressor got an unexpected keyword argument 'learning_rate'\")"
      ]
     },
     "execution_count": 14,
     "metadata": {},
     "output_type": "execute_result"
    }
   ],
   "source": [
    "payload = {'model': 'RandomForestRegressor', 'params': {'learning_rate': 0.1}, 'data': boston_json}\n",
    "response = requests.post('http://0.0.0.0:8080/ml_api', json=payload)\n",
    "response.status_code, response.json()"
   ]
  },
  {
   "cell_type": "markdown",
   "metadata": {},
   "source": [
    "Вернуть предсказания конкретной модели на трейне и тесте можно с помощью метода __get__ с указанием в пути id модели – сначала вернется task id, по которому затем можно посмотреть сами предсказания. Например:"
   ]
  },
  {
   "cell_type": "code",
   "execution_count": 15,
   "metadata": {},
   "outputs": [
    {
     "data": {
      "text/plain": [
       "'Task_id = 61a85e9b-8f92-4572-931f-a24725f119f2'"
      ]
     },
     "execution_count": 15,
     "metadata": {},
     "output_type": "execute_result"
    }
   ],
   "source": [
    "response = requests.get('http://0.0.0.0:8080/ml_api/1')\n",
    "response.json()"
   ]
  },
  {
   "cell_type": "code",
   "execution_count": 16,
   "metadata": {},
   "outputs": [
    {
     "data": {
      "text/plain": [
       "{'train_predictions': '[27.08, 20.94, 19.4, 22.51, 18.22, 24.33, 33.73, 6.89, 26.43, 19.09, 21.23, 23.15, 22.36, 21.76, 47.33, 15.53, 17.25, 22.37, 20.42, 20.07, 21.0, 35.84, 22.26, 20.07, 19.87, 28.51, 36.19, 24.54, 12.89, 12.96, 11.64, 16.76, 32.51, 27.22, 13.89, 13.94, 45.13, 21.37, 20.45, 23.07, 18.62, 12.15, 6.8, 30.78, 26.2, 19.19, 15.38, 14.04, 22.99, 17.58, 27.13, 35.14, 23.03, 24.16, 23.66, 49.29, 33.84, 31.41, 23.87, 22.59, 14.89, 42.25, 19.56, 31.47, 25.42, 20.97, 21.6, 9.22, 45.45, 42.76, 31.94, 9.57, 16.69, 20.32, 34.09, 17.17, 42.28, 21.38, 23.08, 12.35, 19.85, 23.69, 29.67, 28.68, 21.95, 29.45, 24.98, 32.82, 24.4, 20.97, 24.22, 10.24, 23.83, 22.91, 16.41, 9.03, 19.71, 24.6, 23.34, 19.91, 22.55, 13.24, 30.18, 26.59, 33.89, 13.65, 15.57, 13.19, 14.08, 11.2, 24.48, 16.74, 11.26, 21.85, 14.63, 24.38, 32.45, 40.11, 29.88, 19.63, 30.46, 43.71, 23.74, 20.94, 23.44, 18.69, 18.43, 7.33, 20.61, 20.07, 27.85, 27.99, 20.52, 22.94, 14.92, 13.04, 35.97, 18.05, 15.17, 22.43, 22.28, 20.58, 21.82, 45.19, 8.44, 18.92, 35.02, 17.39, 19.26, 23.34, 20.91, 14.74, 45.66, 24.11, 22.13, 16.95, 31.13, 35.62, 42.94, 18.8, 21.97, 19.93, 44.57, 12.39, 19.13, 16.15, 21.9, 7.77, 20.27, 13.13, 13.46, 18.06, 21.85, 21.55, 22.0, 24.31, 47.8, 26.72, 22.17, 46.51, 8.76, 24.41, 21.82, 19.69, 18.97, 18.23, 13.58, 11.46, 27.71, 19.81, 28.27, 20.94, 24.07, 13.58, 11.22, 29.45, 27.98, 10.23, 20.93, 23.6, 45.42, 22.2, 8.62, 34.97, 41.15, 20.52, 26.2, 40.39, 14.76, 26.41, 12.28, 20.61, 43.23, 27.76, 24.27, 17.28, 18.05, 14.97, 47.2, 21.66, 33.69, 15.75, 15.87, 14.36, 23.29, 32.89, 22.68, 49.36, 10.24, 14.41, 22.78, 18.03, 17.84, 27.41, 16.83, 23.16, 19.08, 32.6, 26.67, 18.79, 13.99, 34.68, 11.01, 20.58, 27.09, 22.36, 33.75, 12.24, 24.02, 18.6, 25.93, 21.81, 21.55, 27.88, 20.47, 26.38, 23.47, 21.53, 32.62, 22.78, 20.91, 23.63, 47.81, 24.34, 27.1, 8.56, 34.73, 20.86, 30.21, 19.35, 22.28, 11.54, 21.83, 14.53, 15.56, 19.55, 10.57, 27.43, 22.42, 14.03, 14.08, 31.12, 12.37, 21.22, 22.46, 19.11, 20.95, 25.26, 18.65, 35.2, 20.81, 20.45, 17.65, 26.16, 7.73, 38.64, 49.73, 19.92, 21.59, 15.57, 33.88, 18.9, 21.35, 24.3, 19.23, 16.75, 20.19, 18.25, 22.07, 11.53, 34.81, 19.63, 20.88, 29.86, 22.48, 23.32, 15.79, 30.81, 23.61, 30.74, 19.44, 21.64, 18.9, 26.83, 33.48, 14.88, 30.1, 8.29, 23.61, 13.49, 25.72, 47.86, 25.88, 14.77, 19.41, 19.76, 22.15, 32.78, 38.97, 21.95, 15.41, 20.63, 21.74, 17.48, 21.34, 15.46, 14.64, 29.19, 22.19, 19.29, 20.81, 25.91, 13.03, 19.67]',\n",
       " 'test_predictions': '[22.84, 31.44, 16.63, 23.9, 17.69, 21.55, 19.94, 15.23, 21.27, 20.98, 19.71, 19.61, 8.09, 21.18, 18.73, 26.12, 18.56, 8.91, 45.92, 15.95, 24.52, 23.72, 14.71, 23.89, 14.5, 14.95, 21.73, 13.99, 19.31, 21.06, 19.71, 23.26, 30.3, 20.6, 14.28, 15.9, 34.59, 18.96, 21.15, 24.16, 18.98, 30.26, 45.34, 19.39, 22.74, 13.64, 15.43, 24.6, 19.29, 28.26, 21.41, 33.94, 18.57, 26.14, 45.06, 21.98, 15.75, 32.56, 21.98, 20.71, 25.68, 33.09, 29.81, 18.99, 27.39, 16.64, 13.82, 23.12, 29.14, 15.51, 20.49, 27.77, 10.54, 21.98, 22.0, 6.94, 20.18, 45.74, 11.23, 13.15, 21.48, 11.61, 20.44, 9.13, 20.93, 26.89, 16.0, 23.25, 23.55, 17.9, 21.71, 7.21, 19.92, 18.8, 23.44, 19.96, 36.58, 11.9, 12.31, 12.18, 20.18, 23.62, 13.7, 20.22, 21.48, 12.9, 19.04, 24.92, 20.12, 23.38, 9.11, 16.08, 22.81, 25.18, 30.7, 15.15, 41.59, 16.6, 19.39, 24.22, 19.33, 24.13, 7.59, 21.05, 24.8, 21.9, 23.42, 33.6, 17.09, 44.38, 15.47, 23.7, 19.53, 18.59, 14.06, 21.13, 20.66, 31.7, 29.29, 17.09, 18.73, 25.04, 19.87, 18.49, 6.78, 21.41, 16.85, 13.64, 15.34, 41.89, 15.5, 16.21]'}"
      ]
     },
     "execution_count": 16,
     "metadata": {},
     "output_type": "execute_result"
    }
   ],
   "source": [
    "response = requests.get('http://0.0.0.0:8080/results/61a85e9b-8f92-4572-931f-a24725f119f2')\n",
    "response.json()"
   ]
  },
  {
   "cell_type": "markdown",
   "metadata": {},
   "source": [
    "Под обучением заново понимается обучение модели на новых данных. Сделать это можно с помощью метода __put__. Необходимо в адресе запроса указать id модели, а в параметр __json__ передать новые данные (также в формате json). С помощью полученного task id можно убедиться, что модель была переобучена. В этом случае в словаре моделей ключ retrained примет значение True для данной модели. "
   ]
  },
  {
   "cell_type": "code",
   "execution_count": 17,
   "metadata": {},
   "outputs": [
    {
     "data": {
      "text/plain": [
       "'Task_id = db6de01c-71ca-44f3-be82-3190488af4c0'"
      ]
     },
     "execution_count": 17,
     "metadata": {},
     "output_type": "execute_result"
    }
   ],
   "source": [
    "response = requests.put('http://0.0.0.0:8080/ml_api/1', json=boston_df.sample(100).to_json())\n",
    "response.json()"
   ]
  },
  {
   "cell_type": "code",
   "execution_count": 18,
   "metadata": {},
   "outputs": [
    {
     "data": {
      "text/plain": [
       "'Model 1 is re-fitted and saved'"
      ]
     },
     "execution_count": 18,
     "metadata": {},
     "output_type": "execute_result"
    }
   ],
   "source": [
    "response = requests.get('http://0.0.0.0:8080/results/db6de01c-71ca-44f3-be82-3190488af4c0')\n",
    "response.json()"
   ]
  },
  {
   "cell_type": "code",
   "execution_count": 19,
   "metadata": {},
   "outputs": [
    {
     "data": {
      "text/plain": [
       "{'model': 'RandomForestRegressor',\n",
       " 'params': {'bootstrap': True,\n",
       "  'ccp_alpha': 0.0,\n",
       "  'criterion': 'mse',\n",
       "  'max_depth': None,\n",
       "  'max_features': 'auto',\n",
       "  'max_leaf_nodes': None,\n",
       "  'max_samples': None,\n",
       "  'min_impurity_decrease': 0.0,\n",
       "  'min_impurity_split': None,\n",
       "  'min_samples_leaf': 1,\n",
       "  'min_samples_split': 2,\n",
       "  'min_weight_fraction_leaf': 0.0,\n",
       "  'n_estimators': 100,\n",
       "  'n_jobs': None,\n",
       "  'oob_score': False,\n",
       "  'random_state': None,\n",
       "  'verbose': 0,\n",
       "  'warm_start': False},\n",
       " 'retrained': True,\n",
       " 'deleted': False}"
      ]
     },
     "execution_count": 19,
     "metadata": {},
     "output_type": "execute_result"
    }
   ],
   "source": [
    "response = requests.get('http://0.0.0.0:8080/ml_api/all_models')\n",
    "response.json()['1']"
   ]
  },
  {
   "cell_type": "markdown",
   "metadata": {},
   "source": [
    "Чтобы удалить уже обученную модель, надо вызвать метод __delete__ и указать в адресе id модели. При корректном выполнении выпадает ошибка 204, а deleted в словаре меняет свое значение на True."
   ]
  },
  {
   "cell_type": "code",
   "execution_count": 20,
   "metadata": {},
   "outputs": [
    {
     "data": {
      "text/plain": [
       "<Response [204]>"
      ]
     },
     "execution_count": 20,
     "metadata": {},
     "output_type": "execute_result"
    }
   ],
   "source": [
    "response = requests.delete('http://0.0.0.0:8080/ml_api/1')\n",
    "response"
   ]
  },
  {
   "cell_type": "code",
   "execution_count": 22,
   "metadata": {},
   "outputs": [
    {
     "data": {
      "text/plain": [
       "{'model': 'RandomForestRegressor',\n",
       " 'params': {'bootstrap': True,\n",
       "  'ccp_alpha': 0.0,\n",
       "  'criterion': 'mse',\n",
       "  'max_depth': None,\n",
       "  'max_features': 'auto',\n",
       "  'max_leaf_nodes': None,\n",
       "  'max_samples': None,\n",
       "  'min_impurity_decrease': 0.0,\n",
       "  'min_impurity_split': None,\n",
       "  'min_samples_leaf': 1,\n",
       "  'min_samples_split': 2,\n",
       "  'min_weight_fraction_leaf': 0.0,\n",
       "  'n_estimators': 100,\n",
       "  'n_jobs': None,\n",
       "  'oob_score': False,\n",
       "  'random_state': None,\n",
       "  'verbose': 0,\n",
       "  'warm_start': False},\n",
       " 'retrained': True,\n",
       " 'deleted': True}"
      ]
     },
     "execution_count": 22,
     "metadata": {},
     "output_type": "execute_result"
    }
   ],
   "source": [
    "response = requests.get('http://0.0.0.0:8080/ml_api/all_models')\n",
    "response.json()['1']"
   ]
  },
  {
   "cell_type": "markdown",
   "metadata": {},
   "source": [
    "При попытке вызвать какой-либо метод для удаленной модели выпадает ошибка 404. Например:"
   ]
  },
  {
   "cell_type": "code",
   "execution_count": 23,
   "metadata": {
    "scrolled": true
   },
   "outputs": [
    {
     "data": {
      "text/plain": [
       "(404, 'Model 1 was deleted')"
      ]
     },
     "execution_count": 23,
     "metadata": {},
     "output_type": "execute_result"
    }
   ],
   "source": [
    "response = requests.get('http://0.0.0.0:8080/ml_api/1')\n",
    "response.status_code, response.json()"
   ]
  },
  {
   "cell_type": "markdown",
   "metadata": {},
   "source": [
    "## Database\n",
    "База данных была добавлена в приложение для сохранения информации о метриках качества обучаемых моделей на трейне и тесте. Для работы с БД добавлен путь `/metrics`. Посредством post, get, put, delete запросов можно реализовать операции create, read, update, delete соответственно. \n",
    "\n",
    "Так, чтобы добавить записи в БД, надо вызвать __post__ и указать в адресе id уже обученной модели."
   ]
  },
  {
   "cell_type": "code",
   "execution_count": 31,
   "metadata": {},
   "outputs": [
    {
     "data": {
      "text/plain": [
       "(200, 'Metrics for model 1 are added')"
      ]
     },
     "execution_count": 31,
     "metadata": {},
     "output_type": "execute_result"
    }
   ],
   "source": [
    "response = requests.post('http://0.0.0.0:8080/metrics/1')\n",
    "response.status_code, response.json()"
   ]
  },
  {
   "cell_type": "code",
   "execution_count": 32,
   "metadata": {},
   "outputs": [
    {
     "data": {
      "text/plain": [
       "(200, 'Metrics for model 2 are added')"
      ]
     },
     "execution_count": 32,
     "metadata": {},
     "output_type": "execute_result"
    }
   ],
   "source": [
    "response = requests.post('http://0.0.0.0:8080/metrics/2')\n",
    "response.status_code, response.json()"
   ]
  },
  {
   "cell_type": "markdown",
   "metadata": {},
   "source": [
    "Чтобы прочитать данные из БД, надо сделать __get__ запрос. Можно посмотреть либо все записи, либо для конкретной модели."
   ]
  },
  {
   "cell_type": "code",
   "execution_count": 33,
   "metadata": {},
   "outputs": [
    {
     "data": {
      "text/plain": [
       "[{'model_id': 1, 'data': 'train', 'metric': 'rmse', 'value': 1.6232},\n",
       " {'model_id': 1, 'data': 'train', 'metric': 'mae', 'value': 1.0304},\n",
       " {'model_id': 1, 'data': 'test', 'metric': 'rmse', 'value': 3.6015},\n",
       " {'model_id': 1, 'data': 'test', 'metric': 'mae', 'value': 2.3437},\n",
       " {'model_id': 2, 'data': 'train', 'metric': 'rmse', 'value': 2.2411},\n",
       " {'model_id': 2, 'data': 'train', 'metric': 'mae', 'value': 1.3764},\n",
       " {'model_id': 2, 'data': 'test', 'metric': 'rmse', 'value': 3.4637},\n",
       " {'model_id': 2, 'data': 'test', 'metric': 'mae', 'value': 2.1794}]"
      ]
     },
     "execution_count": 33,
     "metadata": {},
     "output_type": "execute_result"
    }
   ],
   "source": [
    "response = requests.get('http://0.0.0.0:8080/metrics')\n",
    "response.json()"
   ]
  },
  {
   "cell_type": "code",
   "execution_count": 34,
   "metadata": {},
   "outputs": [
    {
     "data": {
      "text/plain": [
       "[{'data': 'train', 'metric': 'rmse', 'value': '2.2411'},\n",
       " {'data': 'train', 'metric': 'mae', 'value': '1.3764'},\n",
       " {'data': 'test', 'metric': 'rmse', 'value': '3.4637'},\n",
       " {'data': 'test', 'metric': 'mae', 'value': '2.1794'}]"
      ]
     },
     "execution_count": 34,
     "metadata": {},
     "output_type": "execute_result"
    }
   ],
   "source": [
    "response = requests.get('http://0.0.0.0:8080/metrics/2')\n",
    "response.json()"
   ]
  },
  {
   "cell_type": "markdown",
   "metadata": {},
   "source": [
    "Чтобы изменить данные в БД, надо сделать __put__ запрос с указанием id модели. Обновление записей в БД видится целесообразным делать после переобучения модели. Например:"
   ]
  },
  {
   "cell_type": "code",
   "execution_count": 35,
   "metadata": {},
   "outputs": [
    {
     "data": {
      "text/plain": [
       "'Task_id = 5d39ab0e-d919-458e-99e5-942a588d7774'"
      ]
     },
     "execution_count": 35,
     "metadata": {},
     "output_type": "execute_result"
    }
   ],
   "source": [
    "response = requests.put('http://0.0.0.0:8080/ml_api/2', json=boston_df.sample(300).to_json())\n",
    "response.json()"
   ]
  },
  {
   "cell_type": "code",
   "execution_count": 36,
   "metadata": {},
   "outputs": [
    {
     "data": {
      "text/plain": [
       "'Model 2 is re-fitted and saved'"
      ]
     },
     "execution_count": 36,
     "metadata": {},
     "output_type": "execute_result"
    }
   ],
   "source": [
    "response = requests.get('http://0.0.0.0:8080/results/5d39ab0e-d919-458e-99e5-942a588d7774')\n",
    "response.json()"
   ]
  },
  {
   "cell_type": "code",
   "execution_count": 37,
   "metadata": {},
   "outputs": [
    {
     "data": {
      "text/plain": [
       "'Metrics for model 2 are updated'"
      ]
     },
     "execution_count": 37,
     "metadata": {},
     "output_type": "execute_result"
    }
   ],
   "source": [
    "response = requests.put('http://0.0.0.0:8080/metrics/2')\n",
    "response.json()"
   ]
  },
  {
   "cell_type": "code",
   "execution_count": 39,
   "metadata": {},
   "outputs": [
    {
     "data": {
      "text/plain": [
       "[{'model_id': 1, 'data': 'train', 'metric': 'rmse', 'value': 1.6232},\n",
       " {'model_id': 1, 'data': 'train', 'metric': 'mae', 'value': 1.0304},\n",
       " {'model_id': 1, 'data': 'test', 'metric': 'rmse', 'value': 3.6015},\n",
       " {'model_id': 1, 'data': 'test', 'metric': 'mae', 'value': 2.3437},\n",
       " {'model_id': 2, 'data': 'train', 'metric': 'rmse', 'value': 2.1444},\n",
       " {'model_id': 2, 'data': 'train', 'metric': 'mae', 'value': 1.2924},\n",
       " {'model_id': 2, 'data': 'test', 'metric': 'rmse', 'value': 3.0642},\n",
       " {'model_id': 2, 'data': 'test', 'metric': 'mae', 'value': 1.6532}]"
      ]
     },
     "execution_count": 39,
     "metadata": {},
     "output_type": "execute_result"
    }
   ],
   "source": [
    "response = requests.get('http://0.0.0.0:8080/metrics')\n",
    "response.json()"
   ]
  },
  {
   "cell_type": "markdown",
   "metadata": {},
   "source": [
    "Наконец, чтобы удалить метрики конкретной модели, надо сделать __delete__ запрос."
   ]
  },
  {
   "cell_type": "code",
   "execution_count": 40,
   "metadata": {},
   "outputs": [
    {
     "data": {
      "text/plain": [
       "'Metrics for model 1 are deleted'"
      ]
     },
     "execution_count": 40,
     "metadata": {},
     "output_type": "execute_result"
    }
   ],
   "source": [
    "response = requests.delete('http://0.0.0.0:8080/metrics/1')\n",
    "response.json()"
   ]
  },
  {
   "cell_type": "markdown",
   "metadata": {},
   "source": [
    "Проверим, что записи действительно удалились из БД:"
   ]
  },
  {
   "cell_type": "code",
   "execution_count": 41,
   "metadata": {},
   "outputs": [
    {
     "data": {
      "text/plain": [
       "[{'model_id': 2, 'data': 'train', 'metric': 'rmse', 'value': 2.1444},\n",
       " {'model_id': 2, 'data': 'train', 'metric': 'mae', 'value': 1.2924},\n",
       " {'model_id': 2, 'data': 'test', 'metric': 'rmse', 'value': 3.0642},\n",
       " {'model_id': 2, 'data': 'test', 'metric': 'mae', 'value': 1.6532}]"
      ]
     },
     "execution_count": 41,
     "metadata": {},
     "output_type": "execute_result"
    }
   ],
   "source": [
    "response = requests.get('http://0.0.0.0:8080/metrics')\n",
    "response.json()"
   ]
  },
  {
   "cell_type": "markdown",
   "metadata": {},
   "source": [
    "Все работает! Ура!))"
   ]
  },
  {
   "cell_type": "code",
   "execution_count": null,
   "metadata": {},
   "outputs": [],
   "source": []
  }
 ],
 "metadata": {
  "kernelspec": {
   "display_name": "Python 3 (ipykernel)",
   "language": "python",
   "name": "python3"
  },
  "language_info": {
   "codemirror_mode": {
    "name": "ipython",
    "version": 3
   },
   "file_extension": ".py",
   "mimetype": "text/x-python",
   "name": "python",
   "nbconvert_exporter": "python",
   "pygments_lexer": "ipython3",
   "version": "3.8.12"
  }
 },
 "nbformat": 4,
 "nbformat_minor": 4
}
